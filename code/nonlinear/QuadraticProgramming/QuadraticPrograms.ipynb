{
 "cells": [
  {
   "cell_type": "markdown",
   "id": "f806384a-6f0e-4ec2-9bb4-0ccbda8da765",
   "metadata": {},
   "source": [
    "# Quadratic Programming\n",
    "\n",
    "Quadratic Programs (QPs) have objective functions with squared terms.  The canonical formulation of a QP is:\n",
    "\n",
    "$\\min{\\frac{1}{2} x^T Q x + c^T x}$\n",
    "\n",
    "$\\begin{eqnarray*}\n",
    "\\text{s.t.} \\quad Ax &\\leq& b \\\\\n",
    "Cx &=& d \n",
    "\\end{eqnarray*}$\n",
    "\n",
    "where $x$ is a column vector."
   ]
  },
  {
   "cell_type": "code",
   "execution_count": null,
   "id": "82fcadfd-dc5d-43a0-bd23-34966791d481",
   "metadata": {},
   "outputs": [],
   "source": [
    "import numpy as np\n",
    "\n",
    "data = np.genfromtxt('ozone.csv', delimiter=',', skip_header=1)\n",
    "data"
   ]
  },
  {
   "cell_type": "code",
   "execution_count": null,
   "id": "55b0b83f-7e91-4168-83ee-645b7618b268",
   "metadata": {},
   "outputs": [],
   "source": [
    "import numpy as np\n",
    "import matplotlib.pyplot as plt\n",
    "\n",
    "heading = ['ozone', 'radiation', 'temperature', 'wind']\n",
    "\n",
    "fig,ax = plt.subplots()\n",
    "ax.scatter(data[:,3], data[:,0], c='k', alpha=0.75)\n",
    "ax.set_xlabel(heading[1])\n",
    "ax.set_ylabel(heading[0])\n",
    "fig.suptitle('Ozone versus Wind')\n",
    "plt.show()"
   ]
  },
  {
   "cell_type": "markdown",
   "id": "12cf3776-54f2-4139-a13a-f13d03423ebc",
   "metadata": {},
   "source": [
    "# Regression in Python\n",
    "\n",
    "Regression can be performed with several packages in Python, among which are <code>sklearn</code> and <code>scipy.stats</code>.  I use the latter because I find its use to be more intuitive.  If you choose the latter it can be imported with thsi statement:\n",
    "\n",
    "``` python\n",
    "from sklearn.linear_model import LinearRegression\n",
    "```"
   ]
  },
  {
   "cell_type": "code",
   "execution_count": null,
   "id": "2e9a380f-125b-4050-b980-0d8747db9001",
   "metadata": {},
   "outputs": [],
   "source": [
    "from scipy.stats import linregress\n",
    "\n",
    "result = linregress(x=data[:,3], y=data[:,0])\n",
    "print(result)"
   ]
  },
  {
   "cell_type": "markdown",
   "id": "bb6e45d8-47c9-4217-82ff-83afcd46b318",
   "metadata": {},
   "source": [
    "# Regression using Quadratic Programming  with Gurobi"
   ]
  },
  {
   "cell_type": "code",
   "execution_count": null,
   "id": "7259a335-e876-419e-809a-5b3f54d79e2c",
   "metadata": {},
   "outputs": [],
   "source": [
    "import gurobipy as grb\n",
    "import numpy as np\n",
    "\n",
    "n = data.shape[0]\n",
    "\n",
    "# Create Gurobi model\n",
    "model = grb.Model('QP-Regression')\n",
    "\n",
    "''' Set up data '''\n",
    "x = data[:,3]\n",
    "y = data[:,0]\n",
    "\n",
    "# Create matrix of decision variables\n",
    "''' Note that by default a continous variable's lower bound is 0.0.\n",
    "    Where decision variables can be negative, the lower bound needs to be reset. '''\n",
    "m = model.addVar(lb= -float('inf'), vtype=grb.GRB.CONTINUOUS, name='slope') \n",
    "b = model.addVar(lb= -float('inf'), vtype=grb.GRB.CONTINUOUS, name='intercept') \n",
    "model.update()\n",
    "\n",
    "# Create constraints\n",
    "''' This problem has no constraints '''\n",
    "\n",
    "# Create objective function\n",
    "model.setObjective((m*x+b)@np.identity(x.shape[0])@(m*x+b) - 2*y@(m*x+b), grb.GRB.MINIMIZE)  # no need to include the constants term y@y\n",
    "model.update()\n",
    "\n",
    "# Optimize the model\n",
    "model.optimize()\n",
    "\n",
    "''' Print decision variable values and other information '''\n",
    "for var in model.getVars():\n",
    "    print(f'Variable: {var.varName}, Optimal Value = {var.x}')"
   ]
  },
  {
   "cell_type": "markdown",
   "id": "d841bc5a-95aa-420d-a895-eed5a71107be",
   "metadata": {},
   "source": [
    "## Alternate formulation"
   ]
  },
  {
   "cell_type": "code",
   "execution_count": null,
   "id": "6010b250-e943-468c-9973-a703adc581d5",
   "metadata": {},
   "outputs": [],
   "source": [
    "import gurobipy as grb\n",
    "import numpy as np\n",
    "\n",
    "n = data.shape[0]\n",
    "\n",
    "# Create Gurobi model\n",
    "model = grb.Model('QP-Regression')\n",
    "\n",
    "# Create matrix of decision variables\n",
    "''' Note that by default a continous variable's lower bound is 0.0.\n",
    "    Where decision variables can be negative, the lower bound needs to be reset. '''\n",
    "m = model.addVar(lb= -float('inf'), vtype=grb.GRB.CONTINUOUS, name='slope') \n",
    "b = model.addVar(lb= -float('inf'), vtype=grb.GRB.CONTINUOUS, name='intercept') \n",
    "\n",
    "# Set up difference vector\n",
    "d = m*data[:,3] + b - data[:,0]\n",
    "model.update()\n",
    "\n",
    "# Create constraints\n",
    "''' This problem has no constraints '''\n",
    "\n",
    "# Create objective function\n",
    "model.setObjective(d @ d, grb.GRB.MINIMIZE)\n",
    "model.update()\n",
    "\n",
    "# Optimize the model\n",
    "model.optimize()\n",
    "\n",
    "''' Print decision variable values and other information '''\n",
    "for var in model.getVars():\n",
    "    print(f'Variable: {var.varName}, Optimal Value = {var.x}')"
   ]
  },
  {
   "cell_type": "markdown",
   "id": "fa4b8217-90ad-4b76-8591-298f5a285a2e",
   "metadata": {},
   "source": [
    "Note that the slope and intercept from the two methods are identical."
   ]
  },
  {
   "cell_type": "markdown",
   "id": "c6e4d290-ce89-4ae7-ba96-b57d37f34673",
   "metadata": {},
   "source": [
    "# Optimizing Investment Portfolios"
   ]
  },
  {
   "cell_type": "code",
   "execution_count": null,
   "id": "61af45a0-44da-4a43-8df2-4909c76baa85",
   "metadata": {},
   "outputs": [],
   "source": [
    "import gurobipy as gpy\n",
    "import matplotlib.pyplot as plt\n",
    "import numpy as np\n",
    "\n",
    "Q = np.genfromtxt('Q.txt')\n",
    "r = np.genfromtxt('r.txt')\n",
    "\n",
    "num_stock = r.shape[0]\n",
    "B = 100.0\n",
    "max_r = r.max()\n",
    "num_level = 10\n",
    "r_inc = (r.max() - (r.max()+r.min())/2)/num_level\n",
    "results = []\n",
    "\n",
    "''' Two models can be used to determine the efficient frontier\n",
    "    of invesment portfolios.  The first minimizes risk for a\n",
    "    specified level of return.  The second formulation exchanges\n",
    "    roles between the objective function and the constraints by\n",
    "    maximizing return for a given level of risk. \n",
    "    \n",
    "    The latter model is shown in the lines that are commented out. \n",
    "    The loop that generates the efficient frontier works only for \n",
    "    the former formulation and would need to be revised for the latter. '''\n",
    "\n",
    "''' Define Gurobi model '''\n",
    "m = gpy.Model(\"QP-Proto\")\n",
    "\n",
    "''' Define investment decision variables '''\n",
    "x = m.addMVar((num_stock,), vtype=gpy.GRB.CONTINUOUS)\n",
    "m.update()\n",
    "\n",
    "''' Define objective function '''\n",
    "m.setObjective(x@Q@x, gpy.GRB.MINIMIZE)\n",
    "#m.setObjective(gpy.quicksum(r @ x / B for i in range(num_stock)),gpy.GRB.MAXIMIZE)\n",
    "m.update()\n",
    "\n",
    "''' Add constraints '''\n",
    "m.addConstr(x.sum() == B, name='Portfolio Budget')\n",
    "m.addConstr((x@r)/B >= max_r, name=\"Return target\")\n",
    "#m.addConstr(x@Q@x,gpy.GRB.LESS_EQUAL, max_risk, name='Quadratic Risk Constraint')\n",
    "\n",
    "m.optimize()\n",
    "\n",
    "if m.status == 2:\n",
    "    results.append([max_r,m.ObjVal])\n",
    "    print('Results for Initial Model')\n",
    "    print('\\n'.join([f'{v.varName}, {v.x}' for v in x]))\n",
    "else:\n",
    "    print('Initial model infeasible')\n",
    "    \n",
    "for i in range(num_level):\n",
    "    m.getConstrByName('Return target').RHS -= r_inc # decrease return target\n",
    "    m.update()\n",
    "    m.optimize()\n",
    "    if m.status == 2:\n",
    "        results.append([m.getConstrByName('Return target').RHS,m.ObjVal])\n",
    "    else:\n",
    "        print( \"Model \",str(i),\" Infeasible\")\n",
    "        \n",
    "''' Annulaize return and risk, normalize risk also'''\n",
    "for i in range(len(results)):\n",
    "    results[i][1] = (12*results[i][1])**0.5/B\n",
    "    results[i][0] = (1.0 + results[i][0]) ** 12.0 - 1.0\n",
    "\n",
    "''' Plot results '''\n",
    "fig,ax = plt.subplots()\n",
    "ax.plot(*zip(*results), c='k')\n",
    "ax.scatter(*zip(*results), c='k')\n",
    "fig.set_size_inches(10,7)\n",
    "ax.set_ylabel('Expected Annual Return')\n",
    "ax.set_xlabel('Standard Deviation of Return Per Dollar')\n",
    "ax.set_title('Portfolio Optimization',fontsize = 22)\n",
    "ax.xaxis.label.set_fontsize(20)\n",
    "ax.yaxis.label.set_fontsize(20)\n",
    "ax.set_xlim(min([x[0] for x in results])*0.9,max([x[0] for x in results])*1.1)\n",
    "ax.set_ylim(min([x[1] for x in results])*0.9,max([x[1] for x in results])*1.1)\n",
    "ax.tick_params(axis='both',labelsize =14)\n",
    "ax.tick_params(axis='both',which='both',top=False,right=False)\n",
    "ax.spines['top'].set_visible(False)\n",
    "ax.spines['right'].set_visible(False)\n",
    "plt.savefig('ef.jpg', dpi=300)\n",
    "plt.show()"
   ]
  },
  {
   "cell_type": "code",
   "execution_count": null,
   "id": "9dffd707-7627-461e-ab93-e3a1d889e4a1",
   "metadata": {},
   "outputs": [],
   "source": []
  }
 ],
 "metadata": {
  "kernelspec": {
   "display_name": "Python 3 (ipykernel)",
   "language": "python",
   "name": "python3"
  },
  "language_info": {
   "codemirror_mode": {
    "name": "ipython",
    "version": 3
   },
   "file_extension": ".py",
   "mimetype": "text/x-python",
   "name": "python",
   "nbconvert_exporter": "python",
   "pygments_lexer": "ipython3",
   "version": "3.9.18"
  }
 },
 "nbformat": 4,
 "nbformat_minor": 5
}
