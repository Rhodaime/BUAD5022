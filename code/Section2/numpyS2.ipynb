{
 "cells": [
  {
   "cell_type": "markdown",
   "id": "0a8d7186-b156-484c-a643-b2eb5f0810ac",
   "metadata": {},
   "source": [
    "# Sorting with <code>numpy</code>"
   ]
  },
  {
   "cell_type": "code",
   "execution_count": null,
   "id": "e80f2c2d-cad0-4ef9-997b-0aa20512b124",
   "metadata": {},
   "outputs": [],
   "source": [
    "import numpy as np"
   ]
  },
  {
   "cell_type": "code",
   "execution_count": null,
   "id": "2f8876e3-d57d-443d-b7d0-0072c1b0758f",
   "metadata": {},
   "outputs": [],
   "source": [
    "x = np.random.randint(0, 20, (10,))\n",
    "x"
   ]
  },
  {
   "cell_type": "code",
   "execution_count": null,
   "id": "0086276a-3b5c-4ce7-8424-a8709298e2c6",
   "metadata": {},
   "outputs": [],
   "source": [
    "np.argsort(x)"
   ]
  },
  {
   "cell_type": "code",
   "execution_count": null,
   "id": "c0297723-b705-4dc5-9bed-ce1547942da0",
   "metadata": {},
   "outputs": [],
   "source": [
    "x[np.argsort(x)]"
   ]
  },
  {
   "cell_type": "code",
   "execution_count": null,
   "id": "06d2307e-b11b-44fd-8b74-655baab58952",
   "metadata": {},
   "outputs": [],
   "source": [
    "np.flip(np.argsort(x))"
   ]
  },
  {
   "cell_type": "code",
   "execution_count": null,
   "id": "5c0d6ab1-f9cd-4c60-9bb9-b7072cd223ed",
   "metadata": {},
   "outputs": [],
   "source": [
    "x[np.flip(np.argsort(x))]"
   ]
  },
  {
   "cell_type": "markdown",
   "id": "433a81eb-9f98-42b1-8d35-b4da5666e957",
   "metadata": {},
   "source": [
    "Get the greatest three elements"
   ]
  },
  {
   "cell_type": "code",
   "execution_count": null,
   "id": "20e48717-3f33-4194-93a3-ab092b831fdb",
   "metadata": {},
   "outputs": [],
   "source": [
    "num_top = 3"
   ]
  },
  {
   "cell_type": "code",
   "execution_count": null,
   "id": "788ba8b8-5a4c-488a-854f-ee1aba81373e",
   "metadata": {},
   "outputs": [],
   "source": [
    "np.flip(np.argsort(x))[:num_top]"
   ]
  },
  {
   "cell_type": "code",
   "execution_count": null,
   "id": "7a4077cf-42f7-418e-992c-048b17e6ddd2",
   "metadata": {},
   "outputs": [],
   "source": [
    "x[np.flip(np.argsort(x))[:num_top]]"
   ]
  },
  {
   "cell_type": "markdown",
   "id": "68f5c882-fe66-4b6c-ba14-22fe9f9856ed",
   "metadata": {},
   "source": [
    "Get the least two elements"
   ]
  },
  {
   "cell_type": "code",
   "execution_count": null,
   "id": "bd16133b-d7a0-4fdd-9283-6dc3b9fbd0c3",
   "metadata": {},
   "outputs": [],
   "source": [
    "num_bottom = 2"
   ]
  },
  {
   "cell_type": "code",
   "execution_count": null,
   "id": "59eb567f-ac1a-4a9e-8cd8-5e2de78b0641",
   "metadata": {},
   "outputs": [],
   "source": [
    "x[np.flip(np.argsort(x))[-num_bottom:]]"
   ]
  },
  {
   "cell_type": "markdown",
   "id": "a9fcfed4-cd0b-4f17-9a95-2e0a9be025a2",
   "metadata": {},
   "source": [
    "# Selecting a Subset of <code>numpy</code> Columns\n",
    "\n",
    "A subset of columns can be selected from a <code>numpy</code> array by referencing the column indices in a <code>numpy</code> array or Python list as shown below.  In addition, the selected columns are returned in the order in which they are referenced in the index array.  The same can be done for rows in an analogous manner, although that circumstance is not illustrated here."
   ]
  },
  {
   "cell_type": "code",
   "execution_count": 2,
   "id": "87e4fad0-86d1-43fa-86eb-9f46f8eb36e1",
   "metadata": {},
   "outputs": [
    {
     "data": {
      "text/plain": [
       "array([[ 0,  1,  2,  3,  4,  5],\n",
       "       [ 6,  7,  8,  9, 10, 11],\n",
       "       [12, 13, 14, 15, 16, 17],\n",
       "       [18, 19, 20, 21, 22, 23],\n",
       "       [24, 25, 26, 27, 28, 29],\n",
       "       [30, 31, 32, 33, 34, 35]])"
      ]
     },
     "execution_count": 2,
     "metadata": {},
     "output_type": "execute_result"
    }
   ],
   "source": [
    "import numpy as np\n",
    "rand_arr = np.arange(36).reshape(6,6)\n",
    "rand_arr"
   ]
  },
  {
   "cell_type": "code",
   "execution_count": 3,
   "id": "eaa93006-1c6c-44c7-bb77-b9ac3f5b220d",
   "metadata": {},
   "outputs": [
    {
     "data": {
      "text/plain": [
       "array([[ 5,  3,  1],\n",
       "       [11,  9,  7],\n",
       "       [17, 15, 13],\n",
       "       [23, 21, 19],\n",
       "       [29, 27, 25],\n",
       "       [35, 33, 31]])"
      ]
     },
     "execution_count": 3,
     "metadata": {},
     "output_type": "execute_result"
    }
   ],
   "source": [
    "rand_arr[:,[5,3,1]]"
   ]
  },
  {
   "cell_type": "code",
   "execution_count": 4,
   "id": "78471317-a9e1-44a3-b8c0-0d180624fff3",
   "metadata": {},
   "outputs": [
    {
     "data": {
      "text/plain": [
       "array([[ 2,  4,  1],\n",
       "       [ 8, 10,  7],\n",
       "       [14, 16, 13],\n",
       "       [20, 22, 19],\n",
       "       [26, 28, 25],\n",
       "       [32, 34, 31]])"
      ]
     },
     "execution_count": 4,
     "metadata": {},
     "output_type": "execute_result"
    }
   ],
   "source": [
    "idx = np.array([2,4,1])\n",
    "rand_arr[:,idx]"
   ]
  },
  {
   "cell_type": "markdown",
   "id": "e0d5c2c9-d65f-4b40-9e59-02b6c454f9a6",
   "metadata": {},
   "source": [
    "Note that this method returns a copy of the elements form the original array and the original <code>rand_arr</code> remains unaltered."
   ]
  },
  {
   "cell_type": "code",
   "execution_count": 5,
   "id": "8b25fa79-40c5-4375-a494-77e6e640d707",
   "metadata": {},
   "outputs": [
    {
     "data": {
      "text/plain": [
       "array([[ 0,  1,  2,  3,  4,  5],\n",
       "       [ 6,  7,  8,  9, 10, 11],\n",
       "       [12, 13, 14, 15, 16, 17],\n",
       "       [18, 19, 20, 21, 22, 23],\n",
       "       [24, 25, 26, 27, 28, 29],\n",
       "       [30, 31, 32, 33, 34, 35]])"
      ]
     },
     "execution_count": 5,
     "metadata": {},
     "output_type": "execute_result"
    }
   ],
   "source": [
    "rand_arr"
   ]
  },
  {
   "cell_type": "markdown",
   "id": "47a01725-45c8-4a13-93d9-6da82392cfc1",
   "metadata": {},
   "source": [
    "# Detecting Gurobi Model Status"
   ]
  },
  {
   "cell_type": "code",
   "execution_count": null,
   "id": "fd60bc7e-64b4-4f5b-aba4-71ade0c1f944",
   "metadata": {},
   "outputs": [],
   "source": [
    "import numpy as np\n",
    "import gurobipy as gpy\n",
    "\n",
    "m = gpy.Model('Status')\n",
    "x = m.addMVar((2,), vtype=gpy.GRB.BINARY)\n",
    "m.update()\n",
    "m.addConstr(x.sum() >= 3)\n",
    "m.setObjective(x.sum(), gpy.GRB.MINIMIZE)\n",
    "m.update()\n",
    "m.optimize()\n",
    "print(f'Gurobi Model Status: {m.Status}\\n\\n\\n\\n\\n')\n",
    "\n",
    "m = gpy.Model('Status')\n",
    "x = m.addMVar((3,), vtype=gpy.GRB.BINARY)\n",
    "m.update()\n",
    "m.addConstr(x.sum() >= 3)\n",
    "m.setObjective(x.sum(), gpy.GRB.MINIMIZE)\n",
    "m.update()\n",
    "m.optimize()\n",
    "print(f'Gurobi Model Status: {m.Status}')\n"
   ]
  },
  {
   "cell_type": "code",
   "execution_count": null,
   "id": "4bbb0c09-b000-4dfc-a476-ec13bb41a363",
   "metadata": {},
   "outputs": [],
   "source": [
    "import numpy as np\n",
    "import gurobipy as gpy\n",
    "\n",
    "done = False\n",
    "num_var = 2\n",
    "\n",
    "while not done:\n",
    "    m = gpy.Model('Status')\n",
    "    x = m.addMVar((num_var,), vtype=gpy.GRB.BINARY)\n",
    "    m.update()\n",
    "    m.addConstr(x.sum() >= 3)\n",
    "    m.setObjective(x.sum(), gpy.GRB.MINIMIZE)\n",
    "    m.update()\n",
    "    m.optimize()\n",
    "    print(f'Gurobi Model Status: {m.Status}\\n\\n\\n\\n\\n')\n",
    "\n",
    "    if m.Status==3:\n",
    "        num_var += 1\n",
    "    else:\n",
    "        done = True"
   ]
  },
  {
   "cell_type": "markdown",
   "id": "bacf9bac-9256-4051-b4c6-c3b369381cd8",
   "metadata": {},
   "source": [
    "# Providing a Starting Solution\n",
    "\n",
    "We have already seen how to load a solution file (<code>.sol</code>), which provides a solution from which Gurobi does surther optimization.  You can also provide a starting solution with an <code>*.mst</code> file or use the <code>.Start</code> attribute of a variable."
   ]
  },
  {
   "cell_type": "code",
   "execution_count": null,
   "id": "ab386a67-6340-4a08-ad5d-11ed049e3b27",
   "metadata": {},
   "outputs": [],
   "source": [
    "import numpy as np\n",
    "import gurobipy as gpy\n",
    "\n",
    "m = gpy.Model('Status')\n",
    "x = m.addMVar((5,), vtype=gpy.GRB.BINARY)\n",
    "m.update()\n",
    "x.Start = np.array([0, 1, 1, 0, 1])\n",
    "m.addConstr(x.sum() >= 3)\n",
    "m.setObjective(x.sum(), gpy.GRB.MINIMIZE)\n",
    "m.update()\n",
    "m.optimize()\n",
    "print(f'Gurobi Model Status: {m.Status}')"
   ]
  },
  {
   "cell_type": "code",
   "execution_count": null,
   "id": "9303d812-a3d0-4534-8274-c6b924936501",
   "metadata": {},
   "outputs": [],
   "source": [
    "import numpy as np\n",
    "import gurobipy as gpy\n",
    "\n",
    "\n",
    "num_var = 2\n",
    "done = False\n",
    "while not done:\n",
    "    m = gpy.Model('Status')\n",
    "    x = m.addMVar((num_var,), vtype=gpy.GRB.BINARY)\n",
    "    m.update()\n",
    "    m.addConstr(x.sum() >= 3)\n",
    "    m.setObjective(x.sum(), gpy.GRB.MINIMIZE)\n",
    "    m.update()\n",
    "    m.optimize()\n",
    "    print(f'Gurobi Model Status: {m.Status}\\n\\n\\n\\n\\n')\n",
    "    if m.Status == 2:\n",
    "        done = True\n",
    "    else:\n",
    "        num_var +=1"
   ]
  },
  {
   "cell_type": "code",
   "execution_count": null,
   "id": "841a583a-1977-4797-80cd-5b5135586ba0",
   "metadata": {},
   "outputs": [],
   "source": []
  }
 ],
 "metadata": {
  "kernelspec": {
   "display_name": "Python 3 (ipykernel)",
   "language": "python",
   "name": "python3"
  },
  "language_info": {
   "codemirror_mode": {
    "name": "ipython",
    "version": 3
   },
   "file_extension": ".py",
   "mimetype": "text/x-python",
   "name": "python",
   "nbconvert_exporter": "python",
   "pygments_lexer": "ipython3",
   "version": "3.9.18"
  }
 },
 "nbformat": 4,
 "nbformat_minor": 5
}
