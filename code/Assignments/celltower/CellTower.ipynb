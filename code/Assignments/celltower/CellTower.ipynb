{
 "cells": [
  {
   "cell_type": "markdown",
   "id": "23b2162d-9b3e-48f6-bbb5-325d112a0357",
   "metadata": {},
   "source": [
    "# Cell Tower Optimization Assignment\n",
    "\n",
    "The code in this notebook is divided into two main sections.  The first contains variations in determining a good, feasible set of towers to (i) use as a starting solution for Gurobi, and (ii) to include in the optimization formulation."
   ]
  },
  {
   "cell_type": "markdown",
   "id": "ec2831cb-e19f-4136-8abc-026254f02f06",
   "metadata": {},
   "source": [
    "# Import Packages, Get Data\n",
    "\n",
    "This code uses a stored procedure with two <code>SELECT</code> queries so that both database tables are retrieved with a single stored procedure."
   ]
  },
  {
   "cell_type": "code",
   "execution_count": 9,
   "id": "352391ae-3d66-4136-aee0-97cb695313fd",
   "metadata": {},
   "outputs": [],
   "source": [
    "import numpy as np\n",
    "import gurobipy as gpy\n",
    "import mysql.connector as mysql\n",
    "import matplotlib.pyplot as plt"
   ]
  },
  {
   "cell_type": "code",
   "execution_count": 10,
   "id": "8871eef9-82de-4502-b39c-9d454dfb9674",
   "metadata": {},
   "outputs": [],
   "source": [
    "db_user = 'root'\n",
    "db_pwd = 'MySQL'\n",
    "db_host='127.0.0.1'\n",
    "db_db = 'set_cover'\n",
    "\n",
    "data = []\n",
    "cnx = mysql.connect(user=db_user, passwd=db_pwd, host=db_host, db=db_db)\n",
    "cursor = cnx.cursor()\n",
    "cursor.callproc('spGetData')\n",
    "for result in cursor.stored_results():\n",
    "    data.append(result.fetchall())\n",
    "    \n",
    "tow = np.array(data[0])\n",
    "dem = np.array(data[1])\n",
    "del data"
   ]
  },
  {
   "cell_type": "markdown",
   "id": "cf1a279a-e719-43e5-8b6a-d42301f71d9c",
   "metadata": {},
   "source": [
    "## Compute Distances\n",
    "\n",
    "This function computes distances between each tower and demand location using <code>numpy</code> in a reasonably fast manner.  The <code>numpy.repeat()</code> and  <code>numpy.tile()</code> methods are used to create the arrays <code>D</code> and <code>T</code> for demand locations and tower locations, respectively, that have outer dimensions equal to the dimensions of the final array that contains the distances between each pair of demand location and tower locations.  This helps to make the element-wise distance computation with <code>numpy</code> fast."
   ]
  },
  {
   "cell_type": "code",
   "execution_count": 11,
   "id": "9e087a88-31dc-4613-8179-903402541062",
   "metadata": {},
   "outputs": [
    {
     "name": "stdout",
     "output_type": "stream",
     "text": [
      "Matrix A computed.\n"
     ]
    }
   ],
   "source": [
    "dist_thres = 100\n",
    "\n",
    "D = np.tile(dem.reshape(len(dem),2),tow.shape[0]).reshape(len(dem),tow.shape[0],2)\n",
    "T = np.repeat(tow.reshape(1,1,tow.shape[0],2),dem.shape[0], axis=1).reshape(dem.shape[0],tow.shape[0],2)\n",
    "A = np.sqrt(((D-T)**2).sum(axis=2))\n",
    "A[A<=dist_thres] = 1\n",
    "A[A>dist_thres] = 0\n",
    "A = A.astype(np.int32)\n",
    "del D\n",
    "del T\n",
    "print('Matrix A computed.')"
   ]
  },
  {
   "cell_type": "markdown",
   "id": "a55fe343-39bb-4825-a3fd-4847860d16a1",
   "metadata": {},
   "source": [
    "# Finding Good Subsets of Towers and Starting Solutions"
   ]
  },
  {
   "cell_type": "markdown",
   "id": "b2873a6f-9121-44d8-89dd-e54ab19ebb39",
   "metadata": {},
   "source": [
    "## Greedy Algorithm\n",
    "\n",
    "The concept is to sequentially add towers to a starting solution one at a time by selecting the tower in each iteration that covers the greatest number of remaining demand points that are not yet served by any of the selected towers.  This algorithm is implemented in two ways, both of which create two sets of tower indices:\n",
    "\n",
    "- <code>col</code>: a starting solution for Gurobi that is feasible in that this tower subset has at least one tower serving each demand location\n",
    "- <code>col_me2</code>:  a list of other towers that may provide improved solutions, which were identified in the search for a feasible starting solution\n",
    "\n",
    "The alternative towers in <code>col_me2</code> are included because the greedy solution is not always a great solution."
   ]
  },
  {
   "attachments": {},
   "cell_type": "markdown",
   "id": "54c15439-8d58-471b-8ecd-e74ce2c5be1e",
   "metadata": {},
   "source": [
    "![cell_tower_greedy_flowchart](cell_flowchart.jpg)\n",
    "\n",
    "[Youtube_video](https://youtu.be/TP215ZHBozI)"
   ]
  },
  {
   "cell_type": "markdown",
   "id": "6e23cd19-d8a2-412e-95fe-0f88376b48df",
   "metadata": {},
   "source": [
    "The first approach uses two numpy arrays to keep track of which demand locations are not yet served by the towers selected thus far (<code>idx_dem</code>) and the cell towers that have not yet been selected (<code>idx_tow</code>)."
   ]
  },
  {
   "cell_type": "code",
   "execution_count": 12,
   "id": "afc8abb8-5acc-453b-b573-97c9b15a2b16",
   "metadata": {},
   "outputs": [],
   "source": [
    "''' Greedily generate minimal coverage of demand locations '''\n",
    "num_to_add = 20  # number of additional attractive towers to add when adding each tower to the feasible solution\n",
    "\n",
    "''' Get solutions from file from previous runs if available '''\n",
    "filename = f'col_{num_to_add}.txt'\n",
    "filename1 = f'col_me2_{num_to_add}.txt'\n",
    "try:\n",
    "    col = np.genfromtxt(filename).astype(np.int32).tolist()\n",
    "    col_me2 = np.genfromtxt(filename1).astype(np.int32).tolist()\n",
    "except:\n",
    "    idx_dem = np.array(range(dem.shape[0]))  # row/demand location indices\n",
    "    idx_tow = np.array(range(tow.shape[0]))  # column/tower indices\n",
    "    col = []                                 # empty list for indices of cell tower selected\n",
    "    col_me2 = []                             # empty list to accumulate ancillary towers\n",
    "    \n",
    "    graph = False\n",
    "    i = 0\n",
    "    while idx_dem.shape[0] > 0:\n",
    "        A_sum = A[idx_dem, :][:,idx_tow].sum(axis=0)\n",
    "        tow_next_idx = np.argmax(A_sum)\n",
    "        tow_next = idx_tow[tow_next_idx]\n",
    "        col.append(tow_next)  # select tower that serves greatest number of remaining demand locations\n",
    "        col_me2.extend(idx_tow[np.argsort(A_sum)[-num_to_add:-1]].tolist()) # Appends other 'best' columns/towers\n",
    "        idx_dem = np.delete(idx_dem, np.where(A[idx_dem, :][:, idx_tow][:,tow_next_idx]==1))\n",
    "        idx_tow = np.delete(idx_tow, np.where(idx_tow==tow_next))\n",
    "        print(f'{len(col)} towers selected; {idx_dem.shape[0]} demand locations not served')\n",
    "        \n",
    "        ''' Plot towers and demand '''\n",
    "        if graph:\n",
    "            fig,ax = plt.subplots()\n",
    "            x,y = [*zip(*dem)]\n",
    "            ax.scatter(x,y, c='k', alpha=0.3, s=1, label='Demand')\n",
    "            x,y = [*zip(*tow[col])]\n",
    "            ax.scatter(x,y, c='r', alpha=1.0, s=3, label='Tower')\n",
    "            ax.scatter(x,y, c='r', alpha=0.2, s=4000)\n",
    "            ax.set_xlabel('x coordinate')\n",
    "            ax.set_ylabel('y coordinate')\n",
    "            plt.savefig(f'movie/cell_{i}.jpg', dpi=600)\n",
    "            i += 1\n",
    "            plt.show()\n",
    "                   \n",
    "    np.savetxt(filename,col)\n",
    "    np.savetxt(filename1,col_me2)\n",
    "    print(f'Greedy start solution has {len(col)} towers; col_me2 has {len(col_me2)} towers.')"
   ]
  },
  {
   "cell_type": "markdown",
   "id": "2e658939-6dde-4207-b17a-fce04e758d28",
   "metadata": {},
   "source": [
    "This approach uses what is to some, possibly, a more intuitive approach althought the coding is more opaque than in the latter approach to identify which cell tower serves the greatest number of unserved demand locations."
   ]
  },
  {
   "cell_type": "code",
   "execution_count": null,
   "id": "98c98cdd-3621-4874-9637-8560c669c624",
   "metadata": {
    "scrolled": true
   },
   "outputs": [],
   "source": [
    "''' Greedily generate minimal coverage of demand locations '''\n",
    "num_to_add = 12\n",
    "filename = f'col_{num_to_add}.txt'\n",
    "filename1 = f'col_me2_{num_to_add}.txt'\n",
    "try:\n",
    "    col = np.genfromtxt(filename).astype(np.int32).tolist()\n",
    "    col_me2 = np.genfromtxt(filename1).astype(np.int32).tolist()\n",
    "except:\n",
    "    col_me2 = []\n",
    "    I = np.identity(A.shape[1])\n",
    "    col = [np.argmax(A_sum)]\n",
    "    dem_cov = A[:,col]\n",
    "    while dem_cov.all() < 1:\n",
    "        a = (A@I) - dem_cov.reshape(A.shape[0],-1)\n",
    "        a[a<0] = 0\n",
    "        col.append(np.argmax(a.sum(axis=0))) # Appends 'best' column/tower\n",
    "        col_me2.extend(np.argsort(a.sum(axis=0))[-num_to_add:-1].tolist()) # Appends 5 'best' columns/towers\n",
    "        dem_cov = A[:,col].max(axis=1)\n",
    "        print(col[-1], dem_cov.sum())\n",
    "    np.savetxt(filename,col)\n",
    "    np.savetxt(filename1,col_me2)\n",
    "print(f'Greedy start solution has {len(col)} towers.')"
   ]
  },
  {
   "cell_type": "markdown",
   "id": "9c0f0ff6-4133-4875-a2cc-2627cefa43c1",
   "metadata": {},
   "source": [
    "# Another Approach\n",
    "\n",
    "Consider alternate towers."
   ]
  },
  {
   "cell_type": "code",
   "execution_count": 15,
   "id": "7cf146dc-885b-4311-a82b-8c99d9aea914",
   "metadata": {},
   "outputs": [
    {
     "name": "stdout",
     "output_type": "stream",
     "text": [
      "Number of unserved demand locations: 0\n"
     ]
    }
   ],
   "source": [
    "col = [i for i in range(tow.shape[0]) if i%2==1]\n",
    "col_me2 = []\n",
    "\n",
    "print(f'Number of unserved demand locations: {(A[:,col].sum(axis=1) == 0).sum()}')"
   ]
  },
  {
   "cell_type": "markdown",
   "id": "e7a754a6-cb34-4b7a-abb2-90b0b00fac4d",
   "metadata": {},
   "source": [
    "# Gurobi Optimization Model\n",
    "\n",
    "This Gurobi optimization model considers cell towers identified by 3 criteria.\n",
    "\n",
    "- The feasible solution identified by the preceding greedy algorithm\n",
    "- The ancillary towers identified in the search for greedy search for a feasible solution\n",
    "- An additional number of towers added based on the number of demand locations that they serve\n",
    "\n",
    "Additional features include:\n",
    "\n",
    "- Saving a solution file\n",
    "- Reading a solution file if one exists for the parameters, and using that as a starting solution\n",
    "  - Otherwise using the greedy feasible solution as a starting solution\n",
    "- Providing a while loop that adds additional towers in case a solution is infeasible, which shuld not be needed given the feasibiltiy of the starting solution, whichever mode is used to create a starting solution."
   ]
  },
  {
   "cell_type": "markdown",
   "id": "7f7ddd9b-64c1-49b4-a7eb-97a6add23d17",
   "metadata": {},
   "source": [
    "This first optimization model is used with the greedy solution as the starting solution."
   ]
  },
  {
   "cell_type": "code",
   "execution_count": 14,
   "id": "007ae474-34d9-48a0-b1a2-c7422b98a0dc",
   "metadata": {},
   "outputs": [
    {
     "name": "stdout",
     "output_type": "stream",
     "text": [
      "Set parameter TimeLimit to value 129600\n",
      "Set parameter MIPGap to value 0.015\n",
      "42.0 1s in MIPStart\n",
      "[1. 1. 1. ... 1. 1. 1.]\n",
      "Gurobi Optimizer version 10.0.3 build v10.0.3rc0 (win64)\n",
      "\n",
      "CPU model: Intel(R) Xeon(R) CPU E5-1650 v3 @ 3.50GHz, instruction set [SSE2|AVX|AVX2]\n",
      "Thread count: 6 physical cores, 12 logical processors, using up to 12 threads\n",
      "\n",
      "Optimize a model with 2000 rows, 1147 columns and 71919 nonzeros\n",
      "Model fingerprint: 0xfeb0a9da\n",
      "Variable types: 0 continuous, 1147 integer (1147 binary)\n",
      "Coefficient statistics:\n",
      "  Matrix range     [1e+00, 1e+00]\n",
      "  Objective range  [1e+00, 1e+00]\n",
      "  Bounds range     [1e+00, 1e+00]\n",
      "  RHS range        [1e+00, 1e+00]\n",
      "\n",
      "Loaded user MIP start with objective 42\n",
      "\n",
      "Presolve removed 1196 rows and 298 columns\n",
      "Presolve time: 0.23s\n",
      "Presolved: 804 rows, 849 columns, 26753 nonzeros\n",
      "Variable types: 0 continuous, 849 integer (849 binary)\n",
      "\n",
      "Root relaxation: objective 4.049069e+01, 1394 iterations, 0.07 seconds (0.08 work units)\n",
      "\n",
      "    Nodes    |    Current Node    |     Objective Bounds      |     Work\n",
      " Expl Unexpl |  Obj  Depth IntInf | Incumbent    BestBd   Gap | It/Node Time\n",
      "\n",
      "     0     0   40.49069    0  211   42.00000   40.49069  3.59%     -    0s\n",
      "     0     0   40.62010    0  206   42.00000   40.62010  3.29%     -    0s\n",
      "     0     0   40.62208    0  199   42.00000   40.62208  3.28%     -    0s\n",
      "     0     0   40.86782    0  217   42.00000   40.86782  2.70%     -    0s\n",
      "     0     0   40.86782    0  217   42.00000   40.86782  2.70%     -    0s\n",
      "     0     0   40.92715    0  208   42.00000   40.92715  2.55%     -    0s\n",
      "\n",
      "Cutting planes:\n",
      "  MIR: 29\n",
      "  Zero half: 17\n",
      "\n",
      "Explored 1 nodes (2244 simplex iterations) in 0.96 seconds (0.83 work units)\n",
      "Thread count was 12 (of 12 available processors)\n",
      "\n",
      "Solution count 1: 42 \n",
      "\n",
      "Optimal solution found (tolerance 1.50e-02)\n",
      "Best objective 4.200000000000e+01, best bound 4.200000000000e+01, gap 0.0000%\n",
      "42.0\n"
     ]
    }
   ],
   "source": [
    "solved = False\n",
    "grw = 0.3\n",
    "A_sum = A.sum(axis=0)\n",
    "num_tow_sub = 500  # additional towers to add in descending order of the number of demand locations served\n",
    "\n",
    "while not solved and num_tow_sub < A.shape[1]:\n",
    "    col_cat = list(set(col + col_me2 + [x for x in np.flip(A_sum.argsort())[:num_tow_sub]]))\n",
    "    A_sub = A[:,col_cat]\n",
    "    \n",
    "    ''' Create model '''\n",
    "    m = gpy.Model('CellTower')\n",
    "    m.ModelSense = gpy.GRB.MINIMIZE\n",
    "    \n",
    "    ''' Set Gurobi solve parameters '''\n",
    "    m.Params.TimeLimit = 36*3600 #7200\n",
    "    m.Params.MIPGap = 0.015\n",
    "    \n",
    "    ''' Create dv for towers '''\n",
    "    x = m.addMVar((A_sub.shape[1],), vtype=gpy.GRB.BINARY, name='y')\n",
    "    m.update()\n",
    "    \n",
    "    ''' Load previous sol if applicable, or otherwise use greedy solution as variable start values '''\n",
    "    try:\n",
    "        filesol = f'cell_{num_to_add}_{num_tow_sub}.sol'\n",
    "        m.read(filesol)\n",
    "    except:\n",
    "        x.Start = np.array([1 if c in col else 0 for c in col_cat])\n",
    "    m.update()\n",
    "    print(f'{x.Start.sum()} 1s in MIPStart')\n",
    "    print(f'{(A_sub@x.Start)}')\n",
    "    \n",
    "    \n",
    "    ''' Create objective function '''\n",
    "    m.setObjective(x.sum(), gpy.GRB.MINIMIZE)  \n",
    "    \n",
    "    ''' Add constraints '''\n",
    "    m.addMConstr(A_sub, x, gpy.GRB.GREATER_EQUAL, np.ones(A_sub.shape[0]), name='Cover')\n",
    "    m.update()\n",
    "    \n",
    "    m.optimize()\n",
    "    \n",
    "    if m.Status == 2 or m.Status == 9:\n",
    "        solved = True\n",
    "    else:\n",
    "        num_tow_sub = int((1+grw)*num_tow_sub)\n",
    "        print(f'num_tow_sub: {num_tow_sub}')\n",
    "    \n",
    "m.write(filesol)\n",
    "print(m.ObjVal)"
   ]
  },
  {
   "cell_type": "markdown",
   "id": "0b08185e-d838-4b62-abc6-bcabe958fa2f",
   "metadata": {},
   "source": [
    "This optimization formulation is used with the simple pruning of the cell tower locations."
   ]
  },
  {
   "cell_type": "code",
   "execution_count": 16,
   "id": "4a0474a7-f7a4-4315-b316-861a0ed5238c",
   "metadata": {},
   "outputs": [
    {
     "name": "stdout",
     "output_type": "stream",
     "text": [
      "Set parameter TimeLimit to value 120\n",
      "Set parameter MIPGap to value 0.1\n",
      "41.0 1s in MIPStart\n",
      "[1. 1. 1. ... 2. 1. 1.]\n",
      "Gurobi Optimizer version 10.0.3 build v10.0.3rc0 (win64)\n",
      "\n",
      "CPU model: Intel(R) Xeon(R) CPU E5-1650 v3 @ 3.50GHz, instruction set [SSE2|AVX|AVX2]\n",
      "Thread count: 6 physical cores, 12 logical processors, using up to 12 threads\n",
      "\n",
      "Optimize a model with 2000 rows, 2244 columns and 127998 nonzeros\n",
      "Model fingerprint: 0x5c75af14\n",
      "Variable types: 0 continuous, 2244 integer (2244 binary)\n",
      "Coefficient statistics:\n",
      "  Matrix range     [1e+00, 1e+00]\n",
      "  Objective range  [1e+00, 1e+00]\n",
      "  Bounds range     [1e+00, 1e+00]\n",
      "  RHS range        [1e+00, 1e+00]\n",
      "\n",
      "Loaded user MIP start with objective 41\n",
      "\n",
      "Presolve removed 485 rows and 399 columns\n",
      "Presolve time: 0.38s\n",
      "Presolved: 1515 rows, 1845 columns, 92657 nonzeros\n",
      "Variable types: 0 continuous, 1845 integer (1845 binary)\n",
      "\n",
      "Root relaxation: objective 3.655343e+01, 5625 iterations, 1.46 seconds (1.82 work units)\n",
      "\n",
      "    Nodes    |    Current Node    |     Objective Bounds      |     Work\n",
      " Expl Unexpl |  Obj  Depth IntInf | Incumbent    BestBd   Gap | It/Node Time\n",
      "\n",
      "     0     0   36.55343    0  593   41.00000   36.55343  10.8%     -    1s\n",
      "\n",
      "Explored 1 nodes (5648 simplex iterations) in 1.97 seconds (2.31 work units)\n",
      "Thread count was 12 (of 12 available processors)\n",
      "\n",
      "Solution count 1: 41 \n",
      "\n",
      "Optimal solution found (tolerance 1.00e-01)\n",
      "Best objective 4.100000000000e+01, best bound 3.700000000000e+01, gap 9.7561%\n",
      "41.0\n"
     ]
    }
   ],
   "source": [
    "col_cat = col\n",
    "A_sub = A[:,col_cat]\n",
    "\n",
    "''' Create model '''\n",
    "m = gpy.Model('CellTower')\n",
    "m.ModelSense = gpy.GRB.MINIMIZE\n",
    "\n",
    "''' Set Gurobi solve parameters '''\n",
    "m.Params.TimeLimit = 120\n",
    "m.Params.MIPGap = 0.10\n",
    "\n",
    "''' Create dv for towers '''\n",
    "x = m.addMVar((A_sub.shape[1],), vtype=gpy.GRB.BINARY, name='y')\n",
    "m.update()\n",
    "\n",
    "''' Load previous sol if applicable, or otherwise use greedy solution as variable start values '''\n",
    "filesol = 'cell_alt.sol'\n",
    "try:\n",
    "    m.read(filesol)\n",
    "except:\n",
    "    x.Start = np.array([1 if c in col else 0 for c in col_cat])\n",
    "m.update()\n",
    "print(f'{x.Start.sum()} 1s in MIPStart')\n",
    "print(f'{(A_sub@x.Start)}')\n",
    "\n",
    "\n",
    "''' Create objective function '''\n",
    "m.setObjective(x.sum(), gpy.GRB.MINIMIZE)  \n",
    "\n",
    "''' Add constraints '''\n",
    "m.addMConstr(A_sub, x, gpy.GRB.GREATER_EQUAL, np.ones(A_sub.shape[0]), name='Cover')\n",
    "m.update()\n",
    "\n",
    "m.optimize()\n",
    "    \n",
    "m.write(filesol)\n",
    "print(m.ObjVal)"
   ]
  },
  {
   "cell_type": "markdown",
   "id": "14ae2f67-c485-459a-8faf-84928d7860f8",
   "metadata": {},
   "source": [
    "## Make Movies of the Tower Selection Algorithm\n",
    "\n",
    "First, compile all frames in a numpy array."
   ]
  },
  {
   "cell_type": "code",
   "execution_count": null,
   "id": "70c96ccc-d8c6-4040-b494-021a1c7318cb",
   "metadata": {},
   "outputs": [],
   "source": [
    "import matplotlib.pyplot as plt\n",
    "import matplotlib.animation as animation\n",
    "from PIL import Image\n",
    "import numpy as np\n",
    "\n",
    "root = ['movie/cell_']\n",
    "\n",
    "for r in root:\n",
    "    i = 0\n",
    "    concat = []\n",
    "    done = False\n",
    "    while not done:\n",
    "      try:\n",
    "          img = np.array(Image.open(f'{r}{i}.jpg'))\n",
    "          concat.append(img)\n",
    "          print(f'{r}{i}.jpg', img.shape)\n",
    "          i += 1\n",
    "          \n",
    "      except:\n",
    "          done = True\n",
    "\n",
    "    result = np.stack(concat)\n",
    "    print(r, result.shape)\n",
    "    np.savetxt(f'{r}shape.txt',np.array(result.shape).astype(np.int16))\n",
    "    #np.savetxt(f'{r[:-1]}.txt',result.flatten().astype(np.int16))\n",
    "    result = result.flatten().astype(np.int16)\n",
    "    np.savez_compressed(f'{r[:-1]}',x=result)"
   ]
  },
  {
   "cell_type": "markdown",
   "id": "579d04cb-3596-474c-88db-c293a1c5580a",
   "metadata": {},
   "source": [
    "Then, create mp4 files."
   ]
  },
  {
   "cell_type": "code",
   "execution_count": null,
   "id": "d8c0a0f2-3651-4c7b-8844-d2d1b22de546",
   "metadata": {},
   "outputs": [],
   "source": [
    "import matplotlib.pyplot as plt\n",
    "import matplotlib.animation as animation\n",
    "import numpy as np\n",
    "from PIL import Image\n",
    "\n",
    "root = ['movie/cell_']\n",
    "\n",
    "for r in root:\n",
    "    m_shape = np.loadtxt(f'{r}shape.txt').astype(np.int32)\n",
    "    \n",
    "    size = m_shape[1:]\n",
    "    fig,ax = plt.subplots()\n",
    "    #ax.spines['top'].set_visible(False)\n",
    "    #ax.spines['bottom'].set_visible(False)\n",
    "    #ax.spines['left'].set_visible(False)\n",
    "    #ax.spines['right'].set_visible(False)\n",
    "    #ax.set_xticks([])\n",
    "    #ax.set_yticks([])\n",
    "    #ax.margins(0.0)\n",
    "    ax.axis('off')\n",
    "    start = np.zeros(size, dtype=np.int16)\n",
    "    start.fill(255)\n",
    "    img = ax.imshow(start)\n",
    "    fps_val = 3\n",
    "    \n",
    "    #movie = np.loadtxt(f'{r[:-1]}.txt').reshape(*m_shape).astype(np.int16)\n",
    "    loaded = np.load(f'{r[:-1]}.npz')\n",
    "    movie = loaded['x'].reshape(*m_shape).astype(np.int16)\n",
    "    \n",
    "    def img_serve(i):\n",
    "        if i % fps_val == 0:\n",
    "            print( '.', end ='' )\n",
    "        img.set_array(np.array(Image.open(f'{r}{i}.jpg')))\n",
    "        yield [img]\n",
    "    \n",
    "    def animate_func(i):\n",
    "        if i % fps_val == 0:\n",
    "            print( '.', end ='' )\n",
    "        #img.axes.set_xticks([])\n",
    "        #img.axes.set_yticks([])\n",
    "        #ax.margins(0.0)\n",
    "        img.set_array(movie[i].reshape(*size)) # the variable movie refers to a numpy array of images\n",
    "        return [img]\n",
    "\n",
    "\n",
    "    anim = animation.FuncAnimation(fig, animate_func, frames=m_shape[0])   # , frames = nSeconds * fps, interval = 1000 / fps\n",
    "    #anim = animation.FuncAnimation(fig, img_serve, frames=100)   # , frames = nSeconds * fps, interval = 1000 / fps\n",
    "    plt.rcParams['animation.ffmpeg_path'] = r'C:\\ProgramData\\Anaconda3\\envs\\base_home\\pkgs\\ffmpeg-4.3.1-ha925a31_0\\Library\\bin\\ffmpeg.exe'\n",
    "    Writer = animation.writers['ffmpeg']\n",
    "    writer = Writer(fps=fps_val, metadata=dict(artist='Me'), bitrate=1800)\n",
    "    anim.save(f'{r}anim.mp4', writer = writer, dpi=600)"
   ]
  },
  {
   "cell_type": "code",
   "execution_count": null,
   "id": "7da0a480-8574-4922-8f30-5bcbcd9be42f",
   "metadata": {},
   "outputs": [],
   "source": []
  }
 ],
 "metadata": {
  "kernelspec": {
   "display_name": "Python 3 (ipykernel)",
   "language": "python",
   "name": "python3"
  },
  "language_info": {
   "codemirror_mode": {
    "name": "ipython",
    "version": 3
   },
   "file_extension": ".py",
   "mimetype": "text/x-python",
   "name": "python",
   "nbconvert_exporter": "python",
   "pygments_lexer": "ipython3",
   "version": "3.9.18"
  }
 },
 "nbformat": 4,
 "nbformat_minor": 5
}
