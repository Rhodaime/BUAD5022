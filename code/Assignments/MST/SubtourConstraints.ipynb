{
 "cells": [
  {
   "cell_type": "markdown",
   "id": "d6c9c93a-0bb0-47d0-9633-74d6b678da3b",
   "metadata": {},
   "source": [
    "# Generators\n",
    "\n",
    "This is a (very) brief description of generators, what they are, how to use them, and how they are useful.\n",
    "\n",
    "First, we can create a generator using the structure of list comprehension, only using parentheses rather than square brackets."
   ]
  },
  {
   "cell_type": "code",
   "execution_count": 72,
   "id": "af227917-6b74-465d-9347-b4aa5708adea",
   "metadata": {},
   "outputs": [
    {
     "name": "stdout",
     "output_type": "stream",
     "text": [
      "<class 'generator'>\n"
     ]
    }
   ],
   "source": [
    "g = (i for i in range(15) if i%2==1)\n",
    "print(type(g))"
   ]
  },
  {
   "cell_type": "code",
   "execution_count": 73,
   "id": "a82b644d-f213-4753-a17a-f43da17f0a5f",
   "metadata": {},
   "outputs": [
    {
     "data": {
      "text/plain": [
       "<generator object <genexpr> at 0x0000015D2492FC10>"
      ]
     },
     "execution_count": 73,
     "metadata": {},
     "output_type": "execute_result"
    }
   ],
   "source": [
    "g"
   ]
  },
  {
   "cell_type": "markdown",
   "id": "f6c6628e-b7a3-41dc-9cde-6341e85cf741",
   "metadata": {},
   "source": [
    "But as you can see, we cannot directly print out the elements that are contained in the generator <code>g</code>.  We saw this same beforehavior with <code>map()</code>, <code>zip()</code>, and <code>filter()</code> because those functions return generators.  We access the elements in generators, again, using the following methods, including iterating through them with a <code>for</code> statement."
   ]
  },
  {
   "cell_type": "code",
   "execution_count": 74,
   "id": "27b303fc-d959-4279-80c6-c64761601f11",
   "metadata": {},
   "outputs": [
    {
     "name": "stdout",
     "output_type": "stream",
     "text": [
      "1\n",
      "3\n",
      "5\n",
      "7\n",
      "9\n",
      "11\n",
      "13\n"
     ]
    }
   ],
   "source": [
    "for x in g:\n",
    "    print(x)"
   ]
  },
  {
   "cell_type": "code",
   "execution_count": 75,
   "id": "b564e967-d120-4617-8f90-8d1f54b64a9a",
   "metadata": {},
   "outputs": [
    {
     "data": {
      "text/plain": [
       "[]"
      ]
     },
     "execution_count": 75,
     "metadata": {},
     "output_type": "execute_result"
    }
   ],
   "source": [
    "[*g]"
   ]
  },
  {
   "cell_type": "markdown",
   "id": "62e64732-e016-4026-9402-da25b192ff5f",
   "metadata": {},
   "source": [
    "And, as shown in the cell above, you can only get the values out of an iterator once: you cannot use it again."
   ]
  },
  {
   "cell_type": "code",
   "execution_count": 76,
   "id": "208ad597-c711-4520-a3c0-aad38831a463",
   "metadata": {},
   "outputs": [
    {
     "data": {
      "text/plain": [
       "[1, 3, 5, 7, 9, 11, 13]"
      ]
     },
     "execution_count": 76,
     "metadata": {},
     "output_type": "execute_result"
    }
   ],
   "source": [
    "g = (i for i in range(15) if i%2==1)\n",
    "[*g]"
   ]
  },
  {
   "cell_type": "code",
   "execution_count": 77,
   "id": "cc18eb8e-08b6-4bb4-9e56-654c65201fa7",
   "metadata": {},
   "outputs": [
    {
     "data": {
      "text/plain": [
       "[1, 3, 5, 7, 9, 11, 13]"
      ]
     },
     "execution_count": 77,
     "metadata": {},
     "output_type": "execute_result"
    }
   ],
   "source": [
    "g = (i for i in range(15) if i%2==1)\n",
    "[x for x in g]"
   ]
  },
  {
   "cell_type": "markdown",
   "id": "749704c3-7b5b-4cc1-b567-b47d904ea946",
   "metadata": {},
   "source": [
    "## Why Use Generators?\n",
    "\n",
    "- You must if you are using a function like <code>map()</code>, <code>zip()</code>, and <code>filter()</code>.\n",
    "- They take little memory\n",
    "  - The contents of the iterator are not computed until they are needed (lazy execution) so it doesn't take up memory\n",
    "- They are fast"
   ]
  },
  {
   "cell_type": "markdown",
   "id": "94c7270d-523a-4f75-b627-79fbb49630d5",
   "metadata": {},
   "source": [
    "## Alternate Method for Creating a Generator\n",
    "\n",
    "This method is not required for our work in the Optimization course, but it is nice to know if it is needed.  The key feature in creating a generator with a custom function is the use of the keyword <code>yield</code> rather than <code>return</code>.  <code>yield</code> causes the current value(s) to be returned when the generator is used with the <code>next</code> function in the calling program while causing the function to pause.  The current state of the function is retained, and it will resume execution the next time it is called precisely where execution was previously paused.  The generator function can also be used in <code>for</code> loops and list comprehension."
   ]
  },
  {
   "cell_type": "code",
   "execution_count": 78,
   "id": "e4a2128a-6ef8-4ce2-aee0-8dd2b9f0b5c3",
   "metadata": {},
   "outputs": [],
   "source": [
    "def odd(n):\n",
    "    for i in range(n):\n",
    "        if i%2==1:\n",
    "            yield i"
   ]
  },
  {
   "cell_type": "code",
   "execution_count": 84,
   "id": "0d58796d-78c2-4f3b-887d-0a3dc00d84cb",
   "metadata": {},
   "outputs": [
    {
     "name": "stdout",
     "output_type": "stream",
     "text": [
      "1\n",
      "3\n"
     ]
    },
    {
     "ename": "StopIteration",
     "evalue": "",
     "output_type": "error",
     "traceback": [
      "\u001b[1;31m---------------------------------------------------------------------------\u001b[0m",
      "\u001b[1;31mStopIteration\u001b[0m                             Traceback (most recent call last)",
      "Cell \u001b[1;32mIn[84], line 4\u001b[0m\n\u001b[0;32m      2\u001b[0m \u001b[38;5;28mprint\u001b[39m(\u001b[38;5;28mnext\u001b[39m(g))\n\u001b[0;32m      3\u001b[0m \u001b[38;5;28mprint\u001b[39m(\u001b[38;5;28mnext\u001b[39m(g))\n\u001b[1;32m----> 4\u001b[0m \u001b[38;5;28mprint\u001b[39m(\u001b[38;5;28;43mnext\u001b[39;49m\u001b[43m(\u001b[49m\u001b[43mg\u001b[49m\u001b[43m)\u001b[49m)\n",
      "\u001b[1;31mStopIteration\u001b[0m: "
     ]
    }
   ],
   "source": [
    "g = odd(5)\n",
    "print(next(g))\n",
    "print(next(g))\n",
    "print(next(g))"
   ]
  },
  {
   "cell_type": "code",
   "execution_count": 80,
   "id": "4625349e-9982-49e1-b35e-271f8189c159",
   "metadata": {},
   "outputs": [
    {
     "name": "stdout",
     "output_type": "stream",
     "text": [
      "1\n",
      "3\n",
      "5\n",
      "7\n"
     ]
    }
   ],
   "source": [
    "g = odd\n",
    "for d in g(8):\n",
    "    print(d)"
   ]
  },
  {
   "cell_type": "code",
   "execution_count": 85,
   "id": "dc5558de-d939-4f64-947d-5150c2ff741a",
   "metadata": {},
   "outputs": [
    {
     "data": {
      "text/plain": [
       "[1, 3, 5, 7, 9]"
      ]
     },
     "execution_count": 85,
     "metadata": {},
     "output_type": "execute_result"
    }
   ],
   "source": [
    "[i for i in odd(10)]"
   ]
  },
  {
   "cell_type": "markdown",
   "id": "ff0d07ae-3afe-4c62-8313-34eacf35416c",
   "metadata": {},
   "source": [
    "# <code>itertools.combinations()</code>\n",
    "\n",
    "The <code>itertools.combinations()</code> function generates all combinations of the given set of items having a specified number of elements.  This function can be used to construct all the terms for a constraint to prevent a subtour among the indices in a given subset.\n",
    "\n",
    "Note the this function returns a generator."
   ]
  },
  {
   "cell_type": "code",
   "execution_count": 3,
   "id": "358453b5-fa21-4571-87c4-2a48c54ed896",
   "metadata": {},
   "outputs": [
    {
     "data": {
      "text/plain": [
       "[(0, 1), (0, 3), (1, 3)]"
      ]
     },
     "execution_count": 3,
     "metadata": {},
     "output_type": "execute_result"
    }
   ],
   "source": [
    "import itertools\n",
    "\n",
    "x = [0,1,3]\n",
    "[*itertools.combinations(x,2)]"
   ]
  },
  {
   "cell_type": "code",
   "execution_count": 10,
   "id": "1786ef04-4d4d-435c-a1b1-5389521cb54a",
   "metadata": {},
   "outputs": [
    {
     "name": "stdout",
     "output_type": "stream",
     "text": [
      "(0, 1) (0, 2) (0, 3) (1, 2) (1, 3) (2, 3)\n",
      "(0, 1, 2) (0, 1, 3) (0, 2, 3) (1, 2, 3)\n",
      "(0, 1, 2, 3)\n"
     ]
    }
   ],
   "source": [
    "n = 4\n",
    "for m in range(2,n+1):\n",
    "    print(*itertools.combinations(range(n),m))"
   ]
  },
  {
   "cell_type": "markdown",
   "id": "1224beca-7bfc-4f41-94c8-d82b95601ca1",
   "metadata": {},
   "source": [
    "The <code>itertools.chain()</code> function permits multiple <code>itertools.combinations()</code> generators to be combined into a single generator."
   ]
  },
  {
   "cell_type": "code",
   "execution_count": 14,
   "id": "aba4f713-8e32-4286-89a1-6a0d00711579",
   "metadata": {},
   "outputs": [
    {
     "name": "stdout",
     "output_type": "stream",
     "text": [
      "[<itertools.combinations object at 0x0000015D2413C4A0>, <itertools.combinations object at 0x0000015D2413C130>, <itertools.combinations object at 0x0000015D2413C770>]\n",
      "[(0, 1), (0, 2), (0, 3), (1, 2), (1, 3), (2, 3), (0, 1, 2), (0, 1, 3), (0, 2, 3), (1, 2, 3), (0, 1, 2, 3)]\n"
     ]
    }
   ],
   "source": [
    "n = 4\n",
    "combo = []\n",
    "for m in range(2,n+1):\n",
    "    combo.append(itertools.combinations(range(n),m))\n",
    "print(combo)\n",
    "combo = itertools.chain(*combo)\n",
    "print([*combo])\n",
    "#for c in combo:\n",
    "#    print(c)"
   ]
  },
  {
   "cell_type": "markdown",
   "id": "2c7a7ee9-fcdb-49df-81d0-c4e258c40b16",
   "metadata": {},
   "source": [
    "# Subtour Detection and Constraint Construction Example\n",
    "\n",
    "The data in this example are constructed so that the MST solution without subtour constraints will have a subtour among the locstion indices $\\left\\lbrace 0,1,3 \\right\\rbrace$  The example shows how a constraint is constructed to prevent that subtour in subsequent optimization iterations."
   ]
  },
  {
   "cell_type": "code",
   "execution_count": 86,
   "id": "b40f34bf-b364-4ba8-9761-b068d54227a6",
   "metadata": {},
   "outputs": [
    {
     "name": "stdout",
     "output_type": "stream",
     "text": [
      "[1e-08, 0.9782668101726484, 1e-08, 0.9417615143340413, 1e-08, 0.9042656155693023]\n",
      "Gurobi Optimizer version 10.0.3 build v10.0.3rc0 (win64)\n",
      "\n",
      "CPU model: Intel(R) Xeon(R) CPU E5-1650 v3 @ 3.50GHz, instruction set [SSE2|AVX|AVX2]\n",
      "Thread count: 6 physical cores, 12 logical processors, using up to 12 threads\n",
      "\n",
      "Optimize a model with 1 rows, 6 columns and 6 nonzeros\n",
      "Model fingerprint: 0x5c8004fe\n",
      "Variable types: 0 continuous, 6 integer (6 binary)\n",
      "Coefficient statistics:\n",
      "  Matrix range     [1e+00, 1e+00]\n",
      "  Objective range  [1e-08, 1e+00]\n",
      "  Bounds range     [1e+00, 1e+00]\n",
      "  RHS range        [3e+00, 3e+00]\n",
      "Found heuristic solution: objective 0.9782668\n",
      "Presolve removed 1 rows and 6 columns\n",
      "Presolve time: 0.00s\n",
      "Presolve: All rows and columns removed\n",
      "\n",
      "Explored 0 nodes (0 simplex iterations) in 0.02 seconds (0.00 work units)\n",
      "Thread count was 1 (of 12 available processors)\n",
      "\n",
      "Solution count 2: 3e-08 0.978267 \n",
      "\n",
      "Optimal solution found (tolerance 1.00e-04)\n",
      "Best objective 3.000000000000e-08, best bound 3.000000000000e-08, gap 0.0000%\n",
      "x_0_1: 1.0\n",
      "x_0_2: 0.0\n",
      "x_0_3: 1.0\n",
      "x_1_2: 0.0\n",
      "x_1_3: 1.0\n",
      "x_2_3: 0.0\n",
      "(0, 1) ['x_0_1']\n",
      "Subset (0, 1); Number of links: 1.0\n",
      "(0, 2) ['x_0_2']\n",
      "Subset (0, 2); Number of links: 0.0\n",
      "(0, 3) ['x_0_3']\n",
      "Subset (0, 3); Number of links: 1.0\n",
      "(1, 2) ['x_1_2']\n",
      "Subset (1, 2); Number of links: 0.0\n",
      "(1, 3) ['x_1_3']\n",
      "Subset (1, 3); Number of links: 1.0\n",
      "(2, 3) ['x_2_3']\n",
      "Subset (2, 3); Number of links: 0.0\n",
      "(0, 1, 2) ['x_0_1', 'x_0_2', 'x_1_2']\n",
      "Subset (0, 1, 2); Number of links: 1.0\n",
      "(0, 1, 3) ['x_0_1', 'x_0_3', 'x_1_3']\n",
      "Subset (0, 1, 3); Number of links: 3.0\n",
      "(0, 2, 3) ['x_0_2', 'x_0_3', 'x_2_3']\n",
      "Subset (0, 2, 3); Number of links: 1.0\n",
      "(1, 2, 3) ['x_1_2', 'x_1_3', 'x_2_3']\n",
      "Subset (1, 2, 3); Number of links: 1.0\n",
      "Gurobi Optimizer version 10.0.3 build v10.0.3rc0 (win64)\n",
      "\n",
      "CPU model: Intel(R) Xeon(R) CPU E5-1650 v3 @ 3.50GHz, instruction set [SSE2|AVX|AVX2]\n",
      "Thread count: 6 physical cores, 12 logical processors, using up to 12 threads\n",
      "\n",
      "Optimize a model with 2 rows, 6 columns and 9 nonzeros\n",
      "Model fingerprint: 0x04d102a4\n",
      "Variable types: 0 continuous, 6 integer (6 binary)\n",
      "Coefficient statistics:\n",
      "  Matrix range     [1e+00, 1e+00]\n",
      "  Objective range  [1e-08, 1e+00]\n",
      "  Bounds range     [1e+00, 1e+00]\n",
      "  RHS range        [2e+00, 3e+00]\n",
      "\n",
      "MIP start from previous solve did not produce a new incumbent solution\n",
      "MIP start from previous solve violates constraint R1 by 1.000000000\n",
      "\n",
      "Found heuristic solution: objective 0.9782668\n",
      "Presolve removed 2 rows and 6 columns\n",
      "Presolve time: 0.00s\n",
      "Presolve: All rows and columns removed\n",
      "\n",
      "Explored 0 nodes (0 simplex iterations) in 0.02 seconds (0.00 work units)\n",
      "Thread count was 1 (of 12 available processors)\n",
      "\n",
      "Solution count 2: 0.904266 0.978267 \n",
      "\n",
      "Optimal solution found (tolerance 1.00e-04)\n",
      "Best objective 9.042656355693e-01, best bound 9.042656355693e-01, gap 0.0000%\n"
     ]
    }
   ],
   "source": [
    "import itertools\n",
    "import gurobipy as gpy\n",
    "import numpy as np\n",
    "\n",
    "''' Generate random distance data in the form of an upper triangular matrix '''\n",
    "n = 4\n",
    "locs = range(n)\n",
    "d = np.random.random((n,n))\n",
    "d = np.triu(d,1)\n",
    "d = [d[i][j] for i in range(n) for j in range(i+1,n)]\n",
    "d[0] = 0.00000001\n",
    "d[2] = 0.00000001\n",
    "d[4] = 0.00000001\n",
    "print(d)\n",
    "\n",
    "''' Construct Gurobi model and optimize '''\n",
    "m = gpy.Model('mst_eg')\n",
    "x = [m.addVar(vtype=gpy.GRB.BINARY,name='x_'+str(i)+'_'+str(j)) for i in range(n) for j in range(i+1,n)]\n",
    "m.update()\n",
    "m.setObjective(gpy.quicksum(x[i] * d[i] for i in range(len(x))), gpy.GRB.MINIMIZE)  \n",
    "m.addLConstr(gpy.quicksum(x), gpy.GRB.EQUAL, rhs=n-1)\n",
    "m.update()\n",
    "m.optimize()\n",
    "\n",
    "''' Print solution '''\n",
    "for v in m.getVars():\n",
    "    print(f'{v.varName}: {v.x}')\n",
    "\n",
    "''' Search for subtours '''\n",
    "''' Consider all subsets of locations for all possible number of subset sizes m '''\n",
    "for mm in range(2,n):\n",
    "    ''' Construct all m-location combinations of the location set '''\n",
    "    subsets = itertools.combinations(locs,mm)\n",
    "    #print([*subtours])\n",
    "    ''' construct constraints for all of the combinations '''\n",
    "    for subset in subsets:\n",
    "      print(subset, [f'x_{i}_{j}' for i,j in itertools.combinations(subset,2)])\n",
    "      num_links = sum([m.getVarByName(f'x_{i}_{j}').x for i,j in itertools.combinations(subset,2)])\n",
    "      print(f'Subset {subset}; Number of links: {num_links}')\n",
    "      if num_links >= len(subset):\n",
    "          ''' Construct subtour constraint for this combination '''\n",
    "          m.addConstr(gpy.quicksum(m.getVarByName(f'x_{i}_{j}') for i,j in itertools.combinations(subset,2)) <= len(subset) - 1)\n",
    "\n",
    "\n",
    "''' The model needs to be updated after all constraints are added, otherwise \n",
    "    the previous solution is deleted '''\n",
    "m.update()  \n",
    "m.optimize()"
   ]
  },
  {
   "cell_type": "code",
   "execution_count": null,
   "id": "d075134c-7c2f-4fe6-ae22-e7aee383b3b2",
   "metadata": {},
   "outputs": [],
   "source": []
  }
 ],
 "metadata": {
  "kernelspec": {
   "display_name": "Python 3 (ipykernel)",
   "language": "python",
   "name": "python3"
  },
  "language_info": {
   "codemirror_mode": {
    "name": "ipython",
    "version": 3
   },
   "file_extension": ".py",
   "mimetype": "text/x-python",
   "name": "python",
   "nbconvert_exporter": "python",
   "pygments_lexer": "ipython3",
   "version": "3.9.18"
  }
 },
 "nbformat": 4,
 "nbformat_minor": 5
}
