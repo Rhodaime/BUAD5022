{
 "cells": [
  {
   "attachments": {},
   "cell_type": "markdown",
   "id": "75a49457-dcf9-48d6-be64-ebcdd79e1f29",
   "metadata": {},
   "source": [
    "# Branch and Bound Algorithm for Solving Mixed Integer Programs (MIPs) or Binary Integer Programs (BIPs)\n",
    "\n",
    "- The idea of the Branch & Bound algorithm is to indirectly arrive at an integer solution by running multiple linear programs that do not have constraints on the integer variables.  Multiple constraints are successively added that in some cases force solutions to have integer decision variables.  \n",
    "- Integer solutions thus obtained may or may not be an optimal solution because the constraints break the preceding model into two parts: the other subpart might have a better solution.  These integer solutions are, therefore, a lower bound (__bound__) on the best possible solution.\n",
    "- Non-integer solutions for a subproblem are possible upper bounds on the best possible objective function value if the solution is less than previous upper bounds (__bound__).\n",
    "- Breaking an existing problem into two with two mutually exclusive but exhaustive constraints is called __branching__.\n",
    "- Termination of a branch: __pruning__\n",
    "  - A branch does not need to investigated further if its solution, either integer or not, when its solution is less than the current lower bound\n",
    "  - A branch does not need to be investigated further if the problem is infeasible: no other subproblems on that branch will be feasible.\n",
    "- Termination of the algorithm\n",
    "  - The optimal solution has been found when the current integer solution has an objective function (lower bound) greater than the solutions on all other branches (which, of course, have been pruned).ted\r\n",
    "ted\r\n"
   ]
  },
  {
   "cell_type": "markdown",
   "id": "d457ece0-7365-479b-94e0-7fd3e8eb9f65",
   "metadata": {},
   "source": [
    "# Linear Relaxation\n",
    "\n",
    "The B&B Algorithm starts with solving a linear program without any integrality constraints on the integer decision variables."
   ]
  },
  {
   "cell_type": "code",
   "execution_count": 1,
   "id": "f6e849e0-6cb9-4aab-9918-b9b364c506c7",
   "metadata": {},
   "outputs": [
    {
     "name": "stdout",
     "output_type": "stream",
     "text": [
      "Set parameter Username\n",
      "Academic license - for non-commercial use only - expires 2024-11-08\n",
      "Gurobi Optimizer version 10.0.3 build v10.0.3rc0 (win64)\n",
      "\n",
      "CPU model: 11th Gen Intel(R) Core(TM) i7-11800H @ 2.30GHz, instruction set [SSE2|AVX|AVX2|AVX512]\n",
      "Thread count: 8 physical cores, 16 logical processors, using up to 16 threads\n",
      "\n",
      "Optimize a model with 3 rows, 2 columns and 5 nonzeros\n",
      "Model fingerprint: 0xa44a509b\n",
      "Coefficient statistics:\n",
      "  Matrix range     [1e+00, 7e+00]\n",
      "  Objective range  [1e+01, 2e+01]\n",
      "  Bounds range     [0e+00, 0e+00]\n",
      "  RHS range        [3e+01, 2e+02]\n",
      "Presolve removed 1 rows and 0 columns\n",
      "Presolve time: 0.00s\n",
      "Presolved: 2 rows, 2 columns, 4 nonzeros\n",
      "\n",
      "Iteration    Objective       Primal Inf.    Dual Inf.      Time\n",
      "       0    6.0000000e+02   1.336900e+01   0.000000e+00      0s\n",
      "       2    5.2307692e+02   0.000000e+00   0.000000e+00      0s\n",
      "\n",
      "Solved in 2 iterations and 0.01 seconds (0.00 work units)\n",
      "Optimal objective  5.230769231e+02\n",
      "Variable: x[0,0], Optimal Value = 18.46153846153846, (LB,UB) = (0.0, inf)\n",
      "Variable: x[1,0], Optimal Value = 15.384615384615387, (LB,UB) = (0.0, inf)\n"
     ]
    }
   ],
   "source": [
    "import gurobipy as grb\n",
    "import numpy as np\n",
    "\n",
    "A = np.genfromtxt('A.txt')\n",
    "b = np.genfromtxt('b.txt').reshape(3,1)\n",
    "c = np.genfromtxt('c.txt')\n",
    "\n",
    "# Create Gurobi model\n",
    "m = grb.Model('Sherwood')\n",
    "\n",
    "# Create matrix of decision variables\n",
    "x = m.addMVar(shape=(2,1), vtype=grb.GRB.CONTINUOUS, name='x')\n",
    "\n",
    "# Update model to include variables\n",
    "m.update()\n",
    "\n",
    "# Create constraints\n",
    "m.addConstrs((A @ x <= b for i in range(1)), name='cnstr') # generator iterator required despite not needing it\n",
    "''' Alternative statement with m.addMConstr() \n",
    "      - Requires a 1D numpy array '''\n",
    "#m.addMConstr(A,x.reshape((2,)), grb.GRB.LESS_EQUAL, b, name='cnstr')\n",
    "\n",
    "# Create objective function\n",
    "m.setObjective(c @ x, grb.GRB.MAXIMIZE)\n",
    "\n",
    "# Update model to include constraints and objective function\n",
    "m.update()\n",
    "\n",
    "# Optimize the model\n",
    "m.optimize()\n",
    "\n",
    "''' Print decision variable values and other information '''\n",
    "for var in m.getVars():\n",
    "    print(f'Variable: {var.varName}, Optimal Value = {var.x}, (LB,UB) = ({var.lb}, {var.ub})')"
   ]
  },
  {
   "cell_type": "markdown",
   "id": "8344e3c1-33f9-4fe6-87ab-0c2c9383c5b4",
   "metadata": {},
   "source": [
    "# Build a Function to Create/Run the Base LP Relaxation\n",
    "\n",
    "We will need to run many optimizations based on this basic LP relaxation and so it makes sense to write a function that can build and return this model.  The function returns the Gurobi model (<code>m</code>) and the decision variables (<code>x</code>) that are needed to add constraints in the branch and bound algorithm."
   ]
  },
  {
   "cell_type": "code",
   "execution_count": 2,
   "id": "8de4997a-2ec2-456b-ab25-1e5c0f42e14b",
   "metadata": {},
   "outputs": [],
   "source": [
    "def run_lp_relaxation():\n",
    "    import gurobipy as grb\n",
    "    import numpy as np\n",
    "    \n",
    "    A = np.genfromtxt('A.txt')\n",
    "    b = np.genfromtxt('b.txt').reshape(3,1)\n",
    "    c = np.genfromtxt('c.txt')\n",
    "    \n",
    "    # Create Gurobi model\n",
    "    m = grb.Model('Sherwood')\n",
    "    \n",
    "    # Specify how to optimize and time limit (seconds)\n",
    "    m.setParam('TimeLimit',7200)\n",
    "    \n",
    "    # Create matrix of decision variables\n",
    "    x = m.addMVar(shape=(2,1), vtype=grb.GRB.CONTINUOUS, name='x')\n",
    "    \n",
    "    # Update model to include variables\n",
    "    m.update()\n",
    "    \n",
    "    # Create constraints\n",
    "    m.addConstrs((A @ x <= b for i in range(1)), name='cnstr') # generator iterator required despite not needing it\n",
    "    ''' Alternative statement with m.addMConstr() \n",
    "          - Requires a 1D numpy array '''\n",
    "    #m.addMConstr(A,x.reshape((2,)), grb.GRB.LESS_EQUAL, b, name='cnstr')\n",
    "    \n",
    "    # Create objective function\n",
    "    m.setObjective(c @ x, grb.GRB.MAXIMIZE)\n",
    "    \n",
    "    # Update model to include constraints and objective function\n",
    "    m.update()\n",
    "    \n",
    "    # Optimize the model\n",
    "    #m.optimize()\n",
    "\n",
    "    return m,x"
   ]
  },
  {
   "cell_type": "code",
   "execution_count": 3,
   "id": "c85b28b0-3372-4ec8-9f81-448a7ad704c0",
   "metadata": {},
   "outputs": [
    {
     "name": "stdout",
     "output_type": "stream",
     "text": [
      "Set parameter TimeLimit to value 7200\n"
     ]
    }
   ],
   "source": [
    "m,x = run_lp_relaxation()"
   ]
  },
  {
   "cell_type": "code",
   "execution_count": 4,
   "id": "9169441b-5e7a-49a1-93a1-1ae9dc01ba78",
   "metadata": {},
   "outputs": [
    {
     "data": {
      "text/plain": [
       "(<gurobi.Model Continuous instance Sherwood: 3 constrs, 2 vars, Parameter changes: TimeLimit=7200.0, Username=(user-defined)>,\n",
       " <MVar (2, 1)>\n",
       " array([[<gurobi.Var x[0,0]>],\n",
       "        [<gurobi.Var x[1,0]>]]))"
      ]
     },
     "execution_count": 4,
     "metadata": {},
     "output_type": "execute_result"
    }
   ],
   "source": [
    "m,x"
   ]
  },
  {
   "cell_type": "markdown",
   "id": "7c5d383f-a8ba-43b6-bc68-004ad5173c4b",
   "metadata": {},
   "source": [
    "# Branch 1 on $x_s$\n",
    "\n",
    "## Add Constraint: $x_s \\leq 18$"
   ]
  },
  {
   "cell_type": "code",
   "execution_count": 5,
   "id": "05c31c88-3597-4fd4-81bf-b616f5bffe5d",
   "metadata": {},
   "outputs": [
    {
     "name": "stdout",
     "output_type": "stream",
     "text": [
      "Set parameter TimeLimit to value 7200\n",
      "Gurobi Optimizer version 10.0.3 build v10.0.3rc0 (win64)\n",
      "\n",
      "CPU model: 11th Gen Intel(R) Core(TM) i7-11800H @ 2.30GHz, instruction set [SSE2|AVX|AVX2|AVX512]\n",
      "Thread count: 8 physical cores, 16 logical processors, using up to 16 threads\n",
      "\n",
      "Optimize a model with 4 rows, 2 columns and 6 nonzeros\n",
      "Model fingerprint: 0xcececc4a\n",
      "Coefficient statistics:\n",
      "  Matrix range     [1e+00, 7e+00]\n",
      "  Objective range  [1e+01, 2e+01]\n",
      "  Bounds range     [0e+00, 0e+00]\n",
      "  RHS range        [2e+01, 2e+02]\n",
      "Presolve removed 2 rows and 0 columns\n",
      "Presolve time: 0.00s\n",
      "Presolved: 2 rows, 2 columns, 4 nonzeros\n",
      "\n",
      "Iteration    Objective       Primal Inf.    Dual Inf.      Time\n",
      "       0    6.0000000e+02   1.825000e+01   0.000000e+00      0s\n",
      "       1    5.2000000e+02   0.000000e+00   0.000000e+00      0s\n",
      "\n",
      "Solved in 1 iterations and 0.01 seconds (0.00 work units)\n",
      "Optimal objective  5.200000000e+02\n",
      "Variable: x[0,0], Optimal Value = 18.0, (LB,UB) = (0.0, inf)\n",
      "Variable: x[1,0], Optimal Value = 16.0, (LB,UB) = (0.0, inf)\n"
     ]
    }
   ],
   "source": [
    "m,x = run_lp_relaxation()\n",
    "\n",
    "m.addConstr(np.array([1.0, 0.0]) @ x <= 18)\n",
    "m.update()\n",
    "m.optimize()\n",
    "\n",
    "''' Print decision variable values and other information '''\n",
    "for var in m.getVars():\n",
    "    print(f'Variable: {var.varName}, Optimal Value = {var.x}, (LB,UB) = ({var.lb}, {var.ub})')"
   ]
  },
  {
   "cell_type": "markdown",
   "id": "de76d602-c34c-4aaa-9a2b-72aca319ae32",
   "metadata": {},
   "source": [
    "## Add Constraint: $x_s \\geq 19$"
   ]
  },
  {
   "cell_type": "code",
   "execution_count": 6,
   "id": "666dc8f0-2863-47c5-9bd4-0e6045a159c6",
   "metadata": {},
   "outputs": [
    {
     "name": "stdout",
     "output_type": "stream",
     "text": [
      "Set parameter TimeLimit to value 7200\n",
      "Gurobi Optimizer version 10.0.3 build v10.0.3rc0 (win64)\n",
      "\n",
      "CPU model: 11th Gen Intel(R) Core(TM) i7-11800H @ 2.30GHz, instruction set [SSE2|AVX|AVX2|AVX512]\n",
      "Thread count: 8 physical cores, 16 logical processors, using up to 16 threads\n",
      "\n",
      "Optimize a model with 4 rows, 2 columns and 6 nonzeros\n",
      "Model fingerprint: 0x12808022\n",
      "Coefficient statistics:\n",
      "  Matrix range     [1e+00, 7e+00]\n",
      "  Objective range  [1e+01, 2e+01]\n",
      "  Bounds range     [0e+00, 0e+00]\n",
      "  RHS range        [2e+01, 2e+02]\n",
      "Presolve removed 2 rows and 0 columns\n",
      "Presolve time: 0.00s\n",
      "Presolved: 2 rows, 2 columns, 4 nonzeros\n",
      "\n",
      "Iteration    Objective       Primal Inf.    Dual Inf.      Time\n",
      "       0    6.0000000e+02   1.336900e+01   0.000000e+00      0s\n",
      "       2    5.1500000e+02   0.000000e+00   0.000000e+00      0s\n",
      "\n",
      "Solved in 2 iterations and 0.01 seconds (0.00 work units)\n",
      "Optimal objective  5.150000000e+02\n",
      "Variable: x[0,0], Optimal Value = 19.0, (LB,UB) = (0.0, inf)\n",
      "Variable: x[1,0], Optimal Value = 13.5, (LB,UB) = (0.0, inf)\n"
     ]
    }
   ],
   "source": [
    "m,x = run_lp_relaxation()\n",
    "\n",
    "m.addConstr(np.array([1.0, 0.0]) @ x >= 19)\n",
    "m.update()\n",
    "m.optimize()\n",
    "\n",
    "''' Print decision variable values and other information '''\n",
    "for var in m.getVars():\n",
    "    print(f'Variable: {var.varName}, Optimal Value = {var.x}, (LB,UB) = ({var.lb}, {var.ub})')"
   ]
  },
  {
   "cell_type": "markdown",
   "id": "33bcf10b-3e72-44e3-9234-333e9a76df5b",
   "metadata": {},
   "source": [
    "# Running Large MIPs/BIPs\n",
    "\n",
    "Running a larger MIP model likely involves one of two strategies for stopping the algorithm in a reasonable amount of time:\n",
    "\n",
    "- Setting an explicit time limit\n",
    "- Setting a percentage difference from the best possible objective function value\n",
    "  - Gurobi will stop the optimization when this termination threshold has been met or exceeded (when % deviation less than the threshold)"
   ]
  },
  {
   "cell_type": "markdown",
   "id": "ca59bce4-db15-4085-af91-c40245982f6e",
   "metadata": {},
   "source": [
    "## Traveling Salesperson Problem (TSP)"
   ]
  },
  {
   "cell_type": "code",
   "execution_count": 18,
   "id": "369b4025-b059-433b-8d2d-52d573ed65b8",
   "metadata": {},
   "outputs": [
    {
     "name": "stdout",
     "output_type": "stream",
     "text": [
      "Set parameter MIPGap to value 0.05\n",
      "Set parameter Presolve to value 0\n",
      "Variables created (0.012001752853393555 seconds)\n",
      "Objective function created (0.013002395629882812 seconds)\n",
      "Constraints created (1.9198026657104492 seconds)\n",
      "Gurobi Optimizer version 10.0.3 build v10.0.3rc0 (win64)\n",
      "\n",
      "CPU model: Intel(R) Xeon(R) CPU E5-1650 v3 @ 3.50GHz, instruction set [SSE2|AVX|AVX2]\n",
      "Thread count: 6 physical cores, 12 logical processors, using up to 12 threads\n",
      "\n",
      "Optimize a model with 4118 rows, 144 columns and 159888 nonzeros\n",
      "Model fingerprint: 0xa339102a\n",
      "Variable types: 0 continuous, 144 integer (144 binary)\n",
      "Coefficient statistics:\n",
      "  Matrix range     [1e+00, 1e+00]\n",
      "  Objective range  [1e+02, 1e+02]\n",
      "  Bounds range     [1e+00, 1e+00]\n",
      "  RHS range        [1e+00, 1e+01]\n",
      "Found heuristic solution: objective 1285.5000000\n",
      "Variable types: 0 continuous, 144 integer (144 binary)\n",
      "\n",
      "Root relaxation: objective 1.227500e+03, 34 iterations, 0.02 seconds (0.01 work units)\n",
      "\n",
      "    Nodes    |    Current Node    |     Objective Bounds      |     Work\n",
      " Expl Unexpl |  Obj  Depth IntInf | Incumbent    BestBd   Gap | It/Node Time\n",
      "\n",
      "     0     0 1227.50000    0   19 1285.50000 1227.50000  4.51%     -    0s\n",
      "\n",
      "Explored 1 nodes (39 simplex iterations) in 0.10 seconds (0.04 work units)\n",
      "Thread count was 12 (of 12 available processors)\n",
      "\n",
      "Solution count 1: 1285.5 \n",
      "\n",
      "Optimal solution found (tolerance 5.00e-02)\n",
      "Best objective 1.285500000000e+03, best bound 1.227500000000e+03, gap 4.5119%\n",
      "Execution time: 2.214827537536621 seconds\n",
      "\n",
      "Statistics for model TSP:\n",
      "  Linear constraint matrix    : 4118 Constrs, 144 Vars, 159888 NZs\n",
      "  Variable types              : 0 Continuous,\n",
      "144 Integer (144 Binary)\n",
      "  Matrix coefficient range    : [ 1, 1 ]\n",
      "  Objective coefficient range : [ 98, 118 ]\n",
      "  Variable bound range        : [ 1, 1 ]\n",
      "  RHS coefficient range       : [ 1, 10 ]\n",
      "Variable: x[0,8], Optimal Value = 1.0, (LB,UB) = (0.0, 1.0)\n",
      "Variable: x[1,2], Optimal Value = 1.0, (LB,UB) = (0.0, 1.0)\n",
      "Variable: x[2,0], Optimal Value = 1.0, (LB,UB) = (0.0, 1.0)\n",
      "Variable: x[3,9], Optimal Value = 1.0, (LB,UB) = (0.0, 1.0)\n",
      "Variable: x[4,6], Optimal Value = 1.0, (LB,UB) = (0.0, 1.0)\n",
      "Variable: x[5,3], Optimal Value = 1.0, (LB,UB) = (0.0, 1.0)\n",
      "Variable: x[6,1], Optimal Value = 1.0, (LB,UB) = (0.0, 1.0)\n",
      "Variable: x[7,10], Optimal Value = 1.0, (LB,UB) = (0.0, 1.0)\n",
      "Variable: x[8,5], Optimal Value = 1.0, (LB,UB) = (0.0, 1.0)\n",
      "Variable: x[9,11], Optimal Value = 1.0, (LB,UB) = (0.0, 1.0)\n",
      "Variable: x[10,4], Optimal Value = 1.0, (LB,UB) = (0.0, 1.0)\n",
      "Variable: x[11,7], Optimal Value = 1.0, (LB,UB) = (0.0, 1.0)\n"
     ]
    }
   ],
   "source": [
    "import gurobipy as gpy\n",
    "import numpy as np\n",
    "import time\n",
    "import itertools\n",
    "\n",
    "def gen(n):\n",
    "    its = []\n",
    "    #print('Check for subtours: ', end=' ')\n",
    "    for num in range(1,n):\n",
    "        its.append(itertools.combinations(range(n), num))\n",
    "        #print(num, end=' ')\n",
    "    #return ((i,j) for i in range(n) for j in range(i+1,n) )\n",
    "    return itertools.chain(*its)\n",
    "\n",
    "#rlen = lambda x:range(len(x))\n",
    "n = 12 # number of locations\n",
    "dist_lb = 95\n",
    "dist_ub = 120\n",
    "dist_lrg = 99999\n",
    "\n",
    "# Create/read (symmetric) distance matrix\n",
    "filename = f'dist_{n}.txt'\n",
    "try:\n",
    "    dist = np.genfromtxt(filename)\n",
    "except:\n",
    "    dist = np.random.randint(dist_lb,dist_ub,size=(n,n))\n",
    "    np.fill_diagonal(dist,0)\n",
    "    dist = (dist + dist.T)/2\n",
    "    #dist = np.array([dist[i][j] for i in range(n) for j in range(i+1,n)])\n",
    "    np.savetxt(filename, dist)\n",
    "\n",
    "start = time.time()\n",
    "\n",
    "''' Create model '''\n",
    "m = gpy.Model('TSP')\n",
    "m.ModelSense = gpy.GRB.MINIMIZE\n",
    "\n",
    "''' Termination Criteria: either time limit or error tolerance '''\n",
    "# Specify how to optimize and time limit (seconds)\n",
    "#m.setParam('TimeLimit',120)\n",
    "m.setParam('MIPGap',0.05)\n",
    "m.setParam('PreSolve',0.05)\n",
    "\n",
    "''' Create dv for connections '''\n",
    "#dv_conn = [(i,j) for i in range(n) for j in range(i)]\n",
    "x = m.addMVar((n,n), vtype=gpy.GRB.BINARY,name='x') \n",
    "m.update()\n",
    "print(f'Variables created ({time.time() - start} seconds)')\n",
    "\n",
    "''' Create objective function '''\n",
    "m.setObjective((x * dist).sum(), gpy.GRB.MINIMIZE)  \n",
    "print(f'Objective function created ({time.time() - start} seconds)')\n",
    "\n",
    "''' Constraint  to ensure each location has 1 route segment in and one out '''\n",
    "# Alternate constraints using numpy syntax\n",
    "#m.addConstrs((x.sum(axis=0) == np.ones(n) for i in range(1)))\n",
    "#m.addConstrs((x.sum(axis=1) == np.ones(n) for i in range(1)))\n",
    "m.addConstrs((np.ones(n) @ x == np.ones(n) for i in range(1)))\n",
    "m.addConstrs((np.ones(n) @ x.transpose() == np.ones(n) for i in range(1)))\n",
    "\n",
    "''' Subtour constraints '''\n",
    "for t in gen(n):\n",
    "    w = np.zeros(n)\n",
    "    w[list(t)] = 1\n",
    "    z = w.reshape(w.shape[0],1)\n",
    "    #m.addLConstr(gpy.quicksum(x[t,:][:,t]), gpy.GRB.LESS_EQUAL, rhs=len(t)-1)\n",
    "    m.addConstrs((w@x@z <= len(t)-1 for i in range(1)))\n",
    "print(f'Constraints created ({time.time() - start} seconds)')\n",
    "\n",
    "\n",
    "m.update()\n",
    "\n",
    "m.write(f'tsp{n}.mps')\n",
    "\n",
    "m.optimize()\n",
    "\n",
    "print(f'Execution time: {time.time() - start} seconds')\n",
    "m.printStats()\n",
    "\n",
    "for var in m.getVars():\n",
    "    if var.x >0:\n",
    "      print(f'Variable: {var.varName}, Optimal Value = {var.x}, (LB,UB) = ({var.lb}, {var.ub})')"
   ]
  },
  {
   "cell_type": "code",
   "execution_count": null,
   "id": "ea91928c-af5e-4d40-8c47-15bc12fad8e1",
   "metadata": {},
   "outputs": [],
   "source": []
  },
  {
   "cell_type": "code",
   "execution_count": null,
   "id": "76d2b95d-a1f7-4187-8055-bf78eb5810ab",
   "metadata": {},
   "outputs": [],
   "source": []
  },
  {
   "cell_type": "code",
   "execution_count": null,
   "id": "fd0d619b-41ab-4e12-aa6e-b484c7672889",
   "metadata": {},
   "outputs": [],
   "source": []
  }
 ],
 "metadata": {
  "kernelspec": {
   "display_name": "Python 3 (ipykernel)",
   "language": "python",
   "name": "python3"
  },
  "language_info": {
   "codemirror_mode": {
    "name": "ipython",
    "version": 3
   },
   "file_extension": ".py",
   "mimetype": "text/x-python",
   "name": "python",
   "nbconvert_exporter": "python",
   "pygments_lexer": "ipython3",
   "version": "3.9.18"
  }
 },
 "nbformat": 4,
 "nbformat_minor": 5
}
