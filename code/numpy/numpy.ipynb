{
 "cells": [
  {
   "cell_type": "markdown",
   "id": "0a8d7186-b156-484c-a643-b2eb5f0810ac",
   "metadata": {},
   "source": [
    "# Sorting with <code>numpy</code>"
   ]
  },
  {
   "cell_type": "code",
   "execution_count": 1,
   "id": "e80f2c2d-cad0-4ef9-997b-0aa20512b124",
   "metadata": {},
   "outputs": [],
   "source": [
    "import numpy as np"
   ]
  },
  {
   "cell_type": "code",
   "execution_count": 2,
   "id": "2f8876e3-d57d-443d-b7d0-0072c1b0758f",
   "metadata": {},
   "outputs": [
    {
     "data": {
      "text/plain": [
       "array([ 8,  1, 12, 14, 18,  4,  0, 15,  3, 15])"
      ]
     },
     "execution_count": 2,
     "metadata": {},
     "output_type": "execute_result"
    }
   ],
   "source": [
    "x = np.random.randint(0, 20, (10,))\n",
    "x"
   ]
  },
  {
   "cell_type": "code",
   "execution_count": 3,
   "id": "0086276a-3b5c-4ce7-8424-a8709298e2c6",
   "metadata": {},
   "outputs": [
    {
     "data": {
      "text/plain": [
       "array([6, 1, 8, 5, 0, 2, 3, 7, 9, 4], dtype=int64)"
      ]
     },
     "execution_count": 3,
     "metadata": {},
     "output_type": "execute_result"
    }
   ],
   "source": [
    "np.argsort(x)"
   ]
  },
  {
   "cell_type": "code",
   "execution_count": 5,
   "id": "c0297723-b705-4dc5-9bed-ce1547942da0",
   "metadata": {},
   "outputs": [
    {
     "data": {
      "text/plain": [
       "array([ 0,  1,  3,  4,  8, 12, 14, 15, 15, 18])"
      ]
     },
     "execution_count": 5,
     "metadata": {},
     "output_type": "execute_result"
    }
   ],
   "source": [
    "x[np.argsort(x)]"
   ]
  },
  {
   "cell_type": "code",
   "execution_count": 6,
   "id": "06d2307e-b11b-44fd-8b74-655baab58952",
   "metadata": {},
   "outputs": [
    {
     "data": {
      "text/plain": [
       "array([4, 9, 7, 3, 2, 0, 5, 8, 1, 6], dtype=int64)"
      ]
     },
     "execution_count": 6,
     "metadata": {},
     "output_type": "execute_result"
    }
   ],
   "source": [
    "np.flip(np.argsort(x))"
   ]
  },
  {
   "cell_type": "code",
   "execution_count": 7,
   "id": "5c0d6ab1-f9cd-4c60-9bb9-b7072cd223ed",
   "metadata": {},
   "outputs": [
    {
     "data": {
      "text/plain": [
       "array([18, 15, 15, 14, 12,  8,  4,  3,  1,  0])"
      ]
     },
     "execution_count": 7,
     "metadata": {},
     "output_type": "execute_result"
    }
   ],
   "source": [
    "x[np.flip(np.argsort(x))]"
   ]
  },
  {
   "cell_type": "markdown",
   "id": "433a81eb-9f98-42b1-8d35-b4da5666e957",
   "metadata": {},
   "source": [
    "Get the greatest three elements"
   ]
  },
  {
   "cell_type": "code",
   "execution_count": 9,
   "id": "20e48717-3f33-4194-93a3-ab092b831fdb",
   "metadata": {},
   "outputs": [],
   "source": [
    "num_top = 3"
   ]
  },
  {
   "cell_type": "code",
   "execution_count": 10,
   "id": "788ba8b8-5a4c-488a-854f-ee1aba81373e",
   "metadata": {},
   "outputs": [
    {
     "data": {
      "text/plain": [
       "array([4, 9, 7], dtype=int64)"
      ]
     },
     "execution_count": 10,
     "metadata": {},
     "output_type": "execute_result"
    }
   ],
   "source": [
    "np.flip(np.argsort(x))[:num_top]"
   ]
  },
  {
   "cell_type": "code",
   "execution_count": 11,
   "id": "7a4077cf-42f7-418e-992c-048b17e6ddd2",
   "metadata": {},
   "outputs": [
    {
     "data": {
      "text/plain": [
       "array([18, 15, 15])"
      ]
     },
     "execution_count": 11,
     "metadata": {},
     "output_type": "execute_result"
    }
   ],
   "source": [
    "x[np.flip(np.argsort(x))[:num_top]]"
   ]
  },
  {
   "cell_type": "markdown",
   "id": "68f5c882-fe66-4b6c-ba14-22fe9f9856ed",
   "metadata": {},
   "source": [
    "Get the least two elements"
   ]
  },
  {
   "cell_type": "code",
   "execution_count": 12,
   "id": "bd16133b-d7a0-4fdd-9283-6dc3b9fbd0c3",
   "metadata": {},
   "outputs": [],
   "source": [
    "num_bottom = 2"
   ]
  },
  {
   "cell_type": "code",
   "execution_count": 13,
   "id": "59eb567f-ac1a-4a9e-8cd8-5e2de78b0641",
   "metadata": {},
   "outputs": [
    {
     "data": {
      "text/plain": [
       "array([1, 0])"
      ]
     },
     "execution_count": 13,
     "metadata": {},
     "output_type": "execute_result"
    }
   ],
   "source": [
    "x[np.flip(np.argsort(x))[-num_bottom:]]"
   ]
  },
  {
   "cell_type": "markdown",
   "id": "a9fcfed4-cd0b-4f17-9a95-2e0a9be025a2",
   "metadata": {},
   "source": [
    "# Selecting a Subset of <code>numpy</code> Columns\n",
    "\n",
    "A subset of columns can be selected from a <code>numpy</code> array by referencing the column indices in a <code>numpy</code> array or Python list as shown below.  In addition, the selected columns are returned in the order in which they are referenced in the index array.  The same can be done for rows in an analogous manner, although that circumstance is not illustrated here."
   ]
  },
  {
   "cell_type": "code",
   "execution_count": null,
   "id": "87e4fad0-86d1-43fa-86eb-9f46f8eb36e1",
   "metadata": {},
   "outputs": [],
   "source": [
    "import numpy as np\n",
    "rand_arr = np.arange(36).reshape(6,6)\n",
    "rand_arr"
   ]
  },
  {
   "cell_type": "code",
   "execution_count": null,
   "id": "eaa93006-1c6c-44c7-bb77-b9ac3f5b220d",
   "metadata": {},
   "outputs": [],
   "source": [
    "rand_arr[:,[5,3,1]]"
   ]
  },
  {
   "cell_type": "code",
   "execution_count": null,
   "id": "78471317-a9e1-44a3-b8c0-0d180624fff3",
   "metadata": {},
   "outputs": [],
   "source": [
    "idx = np.array([2,4,1])\n",
    "rand_arr[:,idx]"
   ]
  },
  {
   "cell_type": "markdown",
   "id": "e0d5c2c9-d65f-4b40-9e59-02b6c454f9a6",
   "metadata": {},
   "source": [
    "Note that this method returns a copy of the elements form the original array and the original <code>rand_arr</code> remains unaltered."
   ]
  },
  {
   "cell_type": "code",
   "execution_count": null,
   "id": "8b25fa79-40c5-4375-a494-77e6e640d707",
   "metadata": {},
   "outputs": [],
   "source": [
    "rand_arr"
   ]
  },
  {
   "cell_type": "markdown",
   "id": "47a01725-45c8-4a13-93d9-6da82392cfc1",
   "metadata": {},
   "source": [
    "# Detecting Gurobi Model Status"
   ]
  },
  {
   "cell_type": "code",
   "execution_count": 2,
   "id": "fd60bc7e-64b4-4f5b-aba4-71ade0c1f944",
   "metadata": {},
   "outputs": [
    {
     "name": "stdout",
     "output_type": "stream",
     "text": [
      "Gurobi Optimizer version 10.0.3 build v10.0.3rc0 (win64)\n",
      "\n",
      "CPU model: Intel(R) Xeon(R) CPU E5-1650 v3 @ 3.50GHz, instruction set [SSE2|AVX|AVX2]\n",
      "Thread count: 6 physical cores, 12 logical processors, using up to 12 threads\n",
      "\n",
      "Optimize a model with 1 rows, 2 columns and 2 nonzeros\n",
      "Model fingerprint: 0xaee6e4fc\n",
      "Variable types: 0 continuous, 2 integer (2 binary)\n",
      "Coefficient statistics:\n",
      "  Matrix range     [1e+00, 1e+00]\n",
      "  Objective range  [1e+00, 1e+00]\n",
      "  Bounds range     [1e+00, 1e+00]\n",
      "  RHS range        [3e+00, 3e+00]\n",
      "Presolve time: 0.00s\n",
      "\n",
      "Explored 0 nodes (0 simplex iterations) in 0.01 seconds (0.00 work units)\n",
      "Thread count was 1 (of 12 available processors)\n",
      "\n",
      "Solution count 0\n",
      "\n",
      "Model is infeasible\n",
      "Best objective -, best bound -, gap -\n",
      "Gurobi Model Status: 3\n",
      "\n",
      "\n",
      "\n",
      "\n",
      "\n",
      "Gurobi Optimizer version 10.0.3 build v10.0.3rc0 (win64)\n",
      "\n",
      "CPU model: Intel(R) Xeon(R) CPU E5-1650 v3 @ 3.50GHz, instruction set [SSE2|AVX|AVX2]\n",
      "Thread count: 6 physical cores, 12 logical processors, using up to 12 threads\n",
      "\n",
      "Optimize a model with 1 rows, 3 columns and 3 nonzeros\n",
      "Model fingerprint: 0x45a33a3d\n",
      "Variable types: 0 continuous, 3 integer (3 binary)\n",
      "Coefficient statistics:\n",
      "  Matrix range     [1e+00, 1e+00]\n",
      "  Objective range  [1e+00, 1e+00]\n",
      "  Bounds range     [1e+00, 1e+00]\n",
      "  RHS range        [3e+00, 3e+00]\n",
      "Found heuristic solution: objective 3.0000000\n",
      "Presolve removed 1 rows and 3 columns\n",
      "Presolve time: 0.00s\n",
      "Presolve: All rows and columns removed\n",
      "\n",
      "Explored 0 nodes (0 simplex iterations) in 0.01 seconds (0.00 work units)\n",
      "Thread count was 1 (of 12 available processors)\n",
      "\n",
      "Solution count 1: 3 \n",
      "\n",
      "Optimal solution found (tolerance 1.00e-04)\n",
      "Best objective 3.000000000000e+00, best bound 3.000000000000e+00, gap 0.0000%\n",
      "Gurobi Model Status: 2\n"
     ]
    }
   ],
   "source": [
    "import numpy as np\n",
    "import gurobipy as gpy\n",
    "\n",
    "m = gpy.Model('Status')\n",
    "x = m.addMVar((2,), vtype=gpy.GRB.BINARY)\n",
    "m.update()\n",
    "m.addConstr(x.sum() >= 3)\n",
    "m.setObjective(x.sum(), gpy.GRB.MINIMIZE)\n",
    "m.update()\n",
    "m.optimize()\n",
    "print(f'Gurobi Model Status: {m.Status}\\n\\n\\n\\n\\n')\n",
    "\n",
    "m = gpy.Model('Status')\n",
    "x = m.addMVar((3,), vtype=gpy.GRB.BINARY)\n",
    "m.update()\n",
    "m.addConstr(x.sum() >= 3)\n",
    "m.setObjective(x.sum(), gpy.GRB.MINIMIZE)\n",
    "m.update()\n",
    "m.optimize()\n",
    "print(f'Gurobi Model Status: {m.Status}')\n"
   ]
  },
  {
   "cell_type": "markdown",
   "id": "bacf9bac-9256-4051-b4c6-c3b369381cd8",
   "metadata": {},
   "source": [
    "# Providing a Starting Solution\n",
    "\n",
    "We have already seen how to load a solution file (<code>.sol</code>), which provides a solution from which Gurobi does surther optimization.  You can also provide a starting solution with an <code>*.mst</code> file or use the <code>.Start</code> attribute of a variable."
   ]
  },
  {
   "cell_type": "code",
   "execution_count": 2,
   "id": "ab386a67-6340-4a08-ad5d-11ed049e3b27",
   "metadata": {},
   "outputs": [
    {
     "name": "stdout",
     "output_type": "stream",
     "text": [
      "Set parameter Username\n",
      "Academic license - for non-commercial use only - expires 2024-02-28\n",
      "Gurobi Optimizer version 10.0.3 build v10.0.3rc0 (win64)\n",
      "\n",
      "CPU model: Intel(R) Xeon(R) CPU E5-1650 v3 @ 3.50GHz, instruction set [SSE2|AVX|AVX2]\n",
      "Thread count: 6 physical cores, 12 logical processors, using up to 12 threads\n",
      "\n",
      "Optimize a model with 1 rows, 5 columns and 5 nonzeros\n",
      "Model fingerprint: 0xab22f5b7\n",
      "Variable types: 0 continuous, 5 integer (5 binary)\n",
      "Coefficient statistics:\n",
      "  Matrix range     [1e+00, 1e+00]\n",
      "  Objective range  [1e+00, 1e+00]\n",
      "  Bounds range     [1e+00, 1e+00]\n",
      "  RHS range        [3e+00, 3e+00]\n",
      "\n",
      "Loaded user MIP start with objective 3\n",
      "\n",
      "Presolve removed 1 rows and 5 columns\n",
      "Presolve time: 0.00s\n",
      "Presolve: All rows and columns removed\n",
      "\n",
      "Explored 0 nodes (0 simplex iterations) in 0.02 seconds (0.00 work units)\n",
      "Thread count was 1 (of 12 available processors)\n",
      "\n",
      "Solution count 1: 3 \n",
      "\n",
      "Optimal solution found (tolerance 1.00e-04)\n",
      "Best objective 3.000000000000e+00, best bound 3.000000000000e+00, gap 0.0000%\n",
      "Gurobi Model Status: 2\n"
     ]
    }
   ],
   "source": [
    "import numpy as np\n",
    "import gurobipy as gpy\n",
    "\n",
    "m = gpy.Model('Status')\n",
    "x = m.addMVar((5,), vtype=gpy.GRB.BINARY)\n",
    "m.update()\n",
    "x.Start = np.array([0, 1, 1, 0, 1])\n",
    "m.addConstr(x.sum() >= 3)\n",
    "m.setObjective(x.sum(), gpy.GRB.MINIMIZE)\n",
    "m.update()\n",
    "m.optimize()\n",
    "print(f'Gurobi Model Status: {m.Status}')"
   ]
  },
  {
   "cell_type": "code",
   "execution_count": null,
   "id": "9303d812-a3d0-4534-8274-c6b924936501",
   "metadata": {},
   "outputs": [],
   "source": []
  }
 ],
 "metadata": {
  "kernelspec": {
   "display_name": "Python 3 (ipykernel)",
   "language": "python",
   "name": "python3"
  },
  "language_info": {
   "codemirror_mode": {
    "name": "ipython",
    "version": 3
   },
   "file_extension": ".py",
   "mimetype": "text/x-python",
   "name": "python",
   "nbconvert_exporter": "python",
   "pygments_lexer": "ipython3",
   "version": "3.9.18"
  }
 },
 "nbformat": 4,
 "nbformat_minor": 5
}
